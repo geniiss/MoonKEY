{
 "cells": [
  {
   "cell_type": "code",
   "execution_count": 51,
   "metadata": {},
   "outputs": [],
   "source": [
    "import pandas as pd\n",
    "import numpy as np\n",
    "\n",
    "activities = pd.read_csv(\"./../../data/activitats.csv\", encoding='ISO-8859-1')\n",
    "marks = pd.read_csv(\"./../../data/notes.csv\", delimiter=';')\n",
    "submision = pd.read_csv(\"./../../data/trameses.csv\")\n"
   ]
  },
  {
   "cell_type": "code",
   "execution_count": 27,
   "metadata": {},
   "outputs": [
    {
     "data": {
      "text/html": [
       "<div>\n",
       "<style scoped>\n",
       "    .dataframe tbody tr th:only-of-type {\n",
       "        vertical-align: middle;\n",
       "    }\n",
       "\n",
       "    .dataframe tbody tr th {\n",
       "        vertical-align: top;\n",
       "    }\n",
       "\n",
       "    .dataframe thead th {\n",
       "        text-align: right;\n",
       "    }\n",
       "</style>\n",
       "<table border=\"1\" class=\"dataframe\">\n",
       "  <thead>\n",
       "    <tr style=\"text-align: right;\">\n",
       "      <th></th>\n",
       "      <th>userid</th>\n",
       "      <th>aula_id</th>\n",
       "      <th>P_Grade</th>\n",
       "      <th>P_Grade_Date</th>\n",
       "      <th>F_Grade</th>\n",
       "      <th>F_Grade_Date</th>\n",
       "      <th>R_Grade</th>\n",
       "      <th>R_Grade_Date</th>\n",
       "    </tr>\n",
       "  </thead>\n",
       "  <tbody>\n",
       "    <tr>\n",
       "      <th>0</th>\n",
       "      <td>176</td>\n",
       "      <td>92</td>\n",
       "      <td>NaN</td>\n",
       "      <td>NaN</td>\n",
       "      <td>9,25</td>\n",
       "      <td>1667829600</td>\n",
       "      <td>NaN</td>\n",
       "      <td>1675173600</td>\n",
       "    </tr>\n",
       "    <tr>\n",
       "      <th>1</th>\n",
       "      <td>179</td>\n",
       "      <td>92</td>\n",
       "      <td>NaN</td>\n",
       "      <td>NaN</td>\n",
       "      <td>7,75</td>\n",
       "      <td>1667829600</td>\n",
       "      <td>NaN</td>\n",
       "      <td>1675173600</td>\n",
       "    </tr>\n",
       "    <tr>\n",
       "      <th>2</th>\n",
       "      <td>168</td>\n",
       "      <td>92</td>\n",
       "      <td>NaN</td>\n",
       "      <td>NaN</td>\n",
       "      <td>7,75</td>\n",
       "      <td>1667829600</td>\n",
       "      <td>NaN</td>\n",
       "      <td>1675173600</td>\n",
       "    </tr>\n",
       "    <tr>\n",
       "      <th>3</th>\n",
       "      <td>401</td>\n",
       "      <td>92</td>\n",
       "      <td>NaN</td>\n",
       "      <td>NaN</td>\n",
       "      <td>3,50</td>\n",
       "      <td>1667829600</td>\n",
       "      <td>8,25</td>\n",
       "      <td>1675173600</td>\n",
       "    </tr>\n",
       "    <tr>\n",
       "      <th>4</th>\n",
       "      <td>482</td>\n",
       "      <td>92</td>\n",
       "      <td>NaN</td>\n",
       "      <td>NaN</td>\n",
       "      <td>7,00</td>\n",
       "      <td>1667829600</td>\n",
       "      <td>NaN</td>\n",
       "      <td>1675173600</td>\n",
       "    </tr>\n",
       "  </tbody>\n",
       "</table>\n",
       "</div>"
      ],
      "text/plain": [
       "   userid  aula_id P_Grade  P_Grade_Date F_Grade  F_Grade_Date R_Grade  \\\n",
       "0     176       92     NaN           NaN    9,25    1667829600     NaN   \n",
       "1     179       92     NaN           NaN    7,75    1667829600     NaN   \n",
       "2     168       92     NaN           NaN    7,75    1667829600     NaN   \n",
       "3     401       92     NaN           NaN    3,50    1667829600    8,25   \n",
       "4     482       92     NaN           NaN    7,00    1667829600     NaN   \n",
       "\n",
       "   R_Grade_Date  \n",
       "0    1675173600  \n",
       "1    1675173600  \n",
       "2    1675173600  \n",
       "3    1675173600  \n",
       "4    1675173600  "
      ]
     },
     "execution_count": 27,
     "metadata": {},
     "output_type": "execute_result"
    }
   ],
   "source": [
    "marks.head()"
   ]
  },
  {
   "cell_type": "markdown",
   "metadata": {},
   "source": [
    "Academic Record"
   ]
  },
  {
   "cell_type": "code",
   "execution_count": 47,
   "metadata": {},
   "outputs": [],
   "source": [
    "def Academic_Record(user_id):\n",
    "    marks_user = marks[(marks[\"userid\"] == user_id)]\n",
    "\n",
    "    #Transforma los formatos de fecha UNIX\n",
    "    marks_user.loc[:,'P_Grade_Date'] = pd.to_datetime(marks_user.loc[:,'P_Grade_Date'], unit='s').dt.date\n",
    "    marks_user.loc[:,'F_Grade_Date'] = pd.to_datetime(marks_user.loc[:,'F_Grade_Date'], unit='s').dt.date\n",
    "    marks_user.loc[:,'R_Grade_Date'] = pd.to_datetime(marks_user.loc[:,'R_Grade_Date'], unit='s').dt.date\n",
    "\n",
    "    #Obtiene la nota y fecha de convocatoria finales (se actualiza la nota final en caso de hacerse recuperacion)\n",
    "    marks_user['Nota_Final'] = np.where(marks_user['R_Grade'].notna(), marks_user['R_Grade'], marks_user['F_Grade'])\n",
    "    marks_user['Fecha_Final'] = np.where(marks_user['R_Grade'].notna(), marks_user['R_Grade_Date'], marks_user['F_Grade_Date'])\n",
    "\n",
    "    #Filtra los campos finales\n",
    "    marks_user_record = marks_user[[\"aula_id\", \"Nota_Final\", \"Fecha_Final\"]]\n",
    "\n",
    "    return marks_user_record"
   ]
  },
  {
   "cell_type": "code",
   "execution_count": 39,
   "metadata": {},
   "outputs": [
    {
     "name": "stderr",
     "output_type": "stream",
     "text": [
      "C:\\Users\\Aleix\\AppData\\Local\\Temp\\ipykernel_8884\\2348586516.py:5: FutureWarning: Setting an item of incompatible dtype is deprecated and will raise in a future error of pandas. Value '[datetime.date(2022, 11, 7) datetime.date(2023, 11, 13)]' has dtype incompatible with int64, please explicitly cast to a compatible dtype first.\n",
      "  marks_user.loc[:,'F_Grade_Date'] = pd.to_datetime(marks_user.loc[:,'F_Grade_Date'], unit='s').dt.date\n",
      "C:\\Users\\Aleix\\AppData\\Local\\Temp\\ipykernel_8884\\2348586516.py:6: FutureWarning: Setting an item of incompatible dtype is deprecated and will raise in a future error of pandas. Value '[datetime.date(2023, 1, 31) datetime.date(2024, 1, 25)]' has dtype incompatible with int64, please explicitly cast to a compatible dtype first.\n",
      "  marks_user.loc[:,'R_Grade_Date'] = pd.to_datetime(marks_user.loc[:,'R_Grade_Date'], unit='s').dt.date\n",
      "C:\\Users\\Aleix\\AppData\\Local\\Temp\\ipykernel_8884\\2348586516.py:9: SettingWithCopyWarning: \n",
      "A value is trying to be set on a copy of a slice from a DataFrame.\n",
      "Try using .loc[row_indexer,col_indexer] = value instead\n",
      "\n",
      "See the caveats in the documentation: https://pandas.pydata.org/pandas-docs/stable/user_guide/indexing.html#returning-a-view-versus-a-copy\n",
      "  marks_user['Nota_Final'] = np.where(marks_user['R_Grade'].notna(), marks_user['R_Grade'], marks_user['F_Grade'])\n",
      "C:\\Users\\Aleix\\AppData\\Local\\Temp\\ipykernel_8884\\2348586516.py:10: SettingWithCopyWarning: \n",
      "A value is trying to be set on a copy of a slice from a DataFrame.\n",
      "Try using .loc[row_indexer,col_indexer] = value instead\n",
      "\n",
      "See the caveats in the documentation: https://pandas.pydata.org/pandas-docs/stable/user_guide/indexing.html#returning-a-view-versus-a-copy\n",
      "  marks_user['Fecha_Final'] = np.where(marks_user['R_Grade'].notna(), marks_user['R_Grade_Date'], marks_user['F_Grade_Date'])\n"
     ]
    },
    {
     "data": {
      "text/html": [
       "<div>\n",
       "<style scoped>\n",
       "    .dataframe tbody tr th:only-of-type {\n",
       "        vertical-align: middle;\n",
       "    }\n",
       "\n",
       "    .dataframe tbody tr th {\n",
       "        vertical-align: top;\n",
       "    }\n",
       "\n",
       "    .dataframe thead th {\n",
       "        text-align: right;\n",
       "    }\n",
       "</style>\n",
       "<table border=\"1\" class=\"dataframe\">\n",
       "  <thead>\n",
       "    <tr style=\"text-align: right;\">\n",
       "      <th></th>\n",
       "      <th>aula_id</th>\n",
       "      <th>Nota_Final</th>\n",
       "      <th>Fecha_Final</th>\n",
       "    </tr>\n",
       "  </thead>\n",
       "  <tbody>\n",
       "    <tr>\n",
       "      <th>34</th>\n",
       "      <td>92</td>\n",
       "      <td>5,75</td>\n",
       "      <td>2022-11-07</td>\n",
       "    </tr>\n",
       "    <tr>\n",
       "      <th>352</th>\n",
       "      <td>143</td>\n",
       "      <td>8,65</td>\n",
       "      <td>2023-11-13</td>\n",
       "    </tr>\n",
       "  </tbody>\n",
       "</table>\n",
       "</div>"
      ],
      "text/plain": [
       "     aula_id Nota_Final Fecha_Final\n",
       "34        92       5,75  2022-11-07\n",
       "352      143       8,65  2023-11-13"
      ]
     },
     "execution_count": 39,
     "metadata": {},
     "output_type": "execute_result"
    }
   ],
   "source": [
    "Academic_Record(155)"
   ]
  },
  {
   "cell_type": "markdown",
   "metadata": {},
   "source": [
    "Datos asignatura y user id"
   ]
  },
  {
   "cell_type": "code",
   "execution_count": 45,
   "metadata": {},
   "outputs": [],
   "source": [
    "def Academic_Record_Subject(user_id, aula_id):\n",
    "    marks_user = marks[(marks[\"userid\"] == user_id)]\n",
    "\n",
    "    #Transforma los formatos de fecha UNIX\n",
    "    marks_user.loc[:,'P_Grade_Date'] = pd.to_datetime(marks_user.loc[:,'P_Grade_Date'], unit='s').dt.date\n",
    "    marks_user.loc[:,'F_Grade_Date'] = pd.to_datetime(marks_user.loc[:,'F_Grade_Date'], unit='s').dt.date\n",
    "    marks_user.loc[:,'R_Grade_Date'] = pd.to_datetime(marks_user.loc[:,'R_Grade_Date'], unit='s').dt.date\n",
    "\n",
    "    return marks_user[marks[\"aula_id\"] == aula_id]"
   ]
  },
  {
   "cell_type": "code",
   "execution_count": 48,
   "metadata": {},
   "outputs": [
    {
     "name": "stderr",
     "output_type": "stream",
     "text": [
      "C:\\Users\\Aleix\\AppData\\Local\\Temp\\ipykernel_8884\\2234939358.py:5: FutureWarning: Setting an item of incompatible dtype is deprecated and will raise in a future error of pandas. Value '<DatetimeArray>\n",
      "['NaT', 'NaT']\n",
      "Length: 2, dtype: datetime64[ns]' has dtype incompatible with float64, please explicitly cast to a compatible dtype first.\n",
      "  marks_user.loc[:,'P_Grade_Date'] = pd.to_datetime(marks_user.loc[:,'P_Grade_Date'], unit='s').dt.date\n",
      "C:\\Users\\Aleix\\AppData\\Local\\Temp\\ipykernel_8884\\2234939358.py:6: FutureWarning: Setting an item of incompatible dtype is deprecated and will raise in a future error of pandas. Value '[datetime.date(2022, 11, 7) datetime.date(2023, 11, 13)]' has dtype incompatible with int64, please explicitly cast to a compatible dtype first.\n",
      "  marks_user.loc[:,'F_Grade_Date'] = pd.to_datetime(marks_user.loc[:,'F_Grade_Date'], unit='s').dt.date\n",
      "C:\\Users\\Aleix\\AppData\\Local\\Temp\\ipykernel_8884\\2234939358.py:7: FutureWarning: Setting an item of incompatible dtype is deprecated and will raise in a future error of pandas. Value '[datetime.date(2023, 1, 31) datetime.date(2024, 1, 25)]' has dtype incompatible with int64, please explicitly cast to a compatible dtype first.\n",
      "  marks_user.loc[:,'R_Grade_Date'] = pd.to_datetime(marks_user.loc[:,'R_Grade_Date'], unit='s').dt.date\n",
      "C:\\Users\\Aleix\\AppData\\Local\\Temp\\ipykernel_8884\\2234939358.py:9: UserWarning: Boolean Series key will be reindexed to match DataFrame index.\n",
      "  return marks_user[marks[\"aula_id\"] == aula_id]\n"
     ]
    },
    {
     "data": {
      "text/html": [
       "<div>\n",
       "<style scoped>\n",
       "    .dataframe tbody tr th:only-of-type {\n",
       "        vertical-align: middle;\n",
       "    }\n",
       "\n",
       "    .dataframe tbody tr th {\n",
       "        vertical-align: top;\n",
       "    }\n",
       "\n",
       "    .dataframe thead th {\n",
       "        text-align: right;\n",
       "    }\n",
       "</style>\n",
       "<table border=\"1\" class=\"dataframe\">\n",
       "  <thead>\n",
       "    <tr style=\"text-align: right;\">\n",
       "      <th></th>\n",
       "      <th>userid</th>\n",
       "      <th>aula_id</th>\n",
       "      <th>P_Grade</th>\n",
       "      <th>P_Grade_Date</th>\n",
       "      <th>F_Grade</th>\n",
       "      <th>F_Grade_Date</th>\n",
       "      <th>R_Grade</th>\n",
       "      <th>R_Grade_Date</th>\n",
       "    </tr>\n",
       "  </thead>\n",
       "  <tbody>\n",
       "    <tr>\n",
       "      <th>34</th>\n",
       "      <td>155</td>\n",
       "      <td>92</td>\n",
       "      <td>NaN</td>\n",
       "      <td>NaT</td>\n",
       "      <td>5,75</td>\n",
       "      <td>2022-11-07</td>\n",
       "      <td>NaN</td>\n",
       "      <td>2023-01-31</td>\n",
       "    </tr>\n",
       "  </tbody>\n",
       "</table>\n",
       "</div>"
      ],
      "text/plain": [
       "    userid  aula_id P_Grade P_Grade_Date F_Grade F_Grade_Date R_Grade  \\\n",
       "34     155       92     NaN          NaT    5,75   2022-11-07     NaN   \n",
       "\n",
       "   R_Grade_Date  \n",
       "34   2023-01-31  "
      ]
     },
     "execution_count": 48,
     "metadata": {},
     "output_type": "execute_result"
    }
   ],
   "source": [
    "Academic_Record_Subject(155, 92)"
   ]
  },
  {
   "cell_type": "markdown",
   "metadata": {},
   "source": [
    "Academic Record Stats"
   ]
  },
  {
   "cell_type": "code",
   "execution_count": 221,
   "metadata": {},
   "outputs": [],
   "source": [
    "def stats_Academic_Record_Mean_Marks(user_id):\n",
    "    submissions = pd.read_csv(\"./../../data/dataset.csv\")\n",
    "    submissions = submissions[['userid', 'aula_id', 'activitat', \"activitat_id\", 'datesubmitted', 'attempt_number', 'mark', 'count_activities']]\n",
    "\n",
    "    submissions_user = submissions[submissions[\"userid\"] == user_id]\n",
    "    return submissions_user[\"mark\"].mean()"
   ]
  },
  {
   "cell_type": "code",
   "execution_count": 222,
   "metadata": {},
   "outputs": [
    {
     "name": "stderr",
     "output_type": "stream",
     "text": [
      "C:\\Users\\Aleix\\AppData\\Local\\Temp\\ipykernel_7204\\1849012263.py:2: DtypeWarning: Columns (12) have mixed types. Specify dtype option on import or set low_memory=False.\n",
      "  submissions = pd.read_csv(\"./../../data/dataset.csv\")\n"
     ]
    },
    {
     "data": {
      "text/plain": [
       "0.9445128205128206"
      ]
     },
     "execution_count": 222,
     "metadata": {},
     "output_type": "execute_result"
    }
   ],
   "source": [
    "stats_Academic_Record_Mean_Marks(user_id)"
   ]
  },
  {
   "cell_type": "code",
   "execution_count": 238,
   "metadata": {},
   "outputs": [
    {
     "name": "stderr",
     "output_type": "stream",
     "text": [
      "C:\\Users\\Aleix\\AppData\\Local\\Temp\\ipykernel_7204\\3054736579.py:2: DtypeWarning: Columns (12) have mixed types. Specify dtype option on import or set low_memory=False.\n",
      "  submissions = pd.read_csv(\"./../../data/dataset.csv\")\n",
      "C:\\Users\\Aleix\\AppData\\Local\\Temp\\ipykernel_7204\\3054736579.py:9: SettingWithCopyWarning: \n",
      "A value is trying to be set on a copy of a slice from a DataFrame.\n",
      "Try using .loc[row_indexer,col_indexer] = value instead\n",
      "\n",
      "See the caveats in the documentation: https://pandas.pydata.org/pandas-docs/stable/user_guide/indexing.html#returning-a-view-versus-a-copy\n",
      "  submissions_user['Nota_Final'] = np.where(submissions_user['R_Grade'].notna(), submissions_user['R_Grade'], submissions_user['F_Grade'])\n"
     ]
    },
    {
     "data": {
      "text/plain": [
       "7.2"
      ]
     },
     "execution_count": 238,
     "metadata": {},
     "output_type": "execute_result"
    }
   ],
   "source": [
    "def stats_Academic_Record_Mean_Final_Grade(user_id):\n",
    "    submissions = pd.read_csv(\"./../../data/dataset.csv\")\n",
    "    submissions = submissions[['userid', 'aula_id', 'F_Grade', 'R_Grade']].drop_duplicates()\n",
    "    submissions\n",
    "\n",
    "\n",
    "    submissions_user = submissions[submissions[\"userid\"] == user_id]\n",
    "    # Crea la columna 'Nota_Final' basant-se en la condició donada\n",
    "    submissions_user['Nota_Final'] = np.where(submissions_user['R_Grade'].notna(), submissions_user['R_Grade'], submissions_user['F_Grade'])\n",
    "\n",
    "    submissions_user = submissions_user.dropna(subset=['Nota_Final'])\n",
    "\n",
    "    return submissions_user[\"Nota_Final\"].mean()\n",
    "\n",
    "stats_Academic_Record_Mean_Final_Grade(user_id)"
   ]
  },
  {
   "cell_type": "markdown",
   "metadata": {},
   "source": [
    "Tablas Trameses"
   ]
  },
  {
   "cell_type": "code",
   "execution_count": 206,
   "metadata": {},
   "outputs": [],
   "source": [
    "import pandas as pd\n",
    "import matplotlib.pyplot as plt\n",
    "\n",
    "def pie_chart_submissions_user(user_id):\n",
    "    fontsize = 18\n",
    "    submissions = pd.read_csv(\"./../../data/dataset.csv\")\n",
    "    submissions = submissions[['userid', 'aula_id', 'activitat', \"activitat_id\", 'datesubmitted', 'attempt_number', 'mark', 'count_activities']]\n",
    "\n",
    "    submissions_user = submissions[submissions[\"userid\"] == user_id]\n",
    "\n",
    "    conteo_por_aula = submissions_user.groupby('aula_id').size()\n",
    "    conteo_por_aula = conteo_por_aula.rename('conteo_registros').reset_index()\n",
    "    submissions_user = submissions_user.merge(conteo_por_aula, on='aula_id', how='left')\n",
    "    submissions_user['diferencia'] = submissions_user['count_activities'] - submissions_user['conteo_registros']\n",
    "\n",
    "    conteo_por_aula = submissions_user.groupby('aula_id').size()\n",
    "    conteo_por_aula = conteo_por_aula.rename('conteo_registros').reset_index()\n",
    "\n",
    "    if 'conteo_registros' in submissions_user.columns:\n",
    "        submissions_user = submissions_user.drop(columns=['conteo_registros'])\n",
    "\n",
    "    submissions_user = submissions_user.merge(conteo_por_aula, on='aula_id', how='left')\n",
    "    submissions_user['diferencia'] = submissions_user['count_activities'] - submissions_user['conteo_registros']\n",
    "\n",
    "    suma_valores_distintos = submissions_user['diferencia'].unique().sum()\n",
    "\n",
    "    count_mark_1 = (submissions_user['mark'] == 1).sum()\n",
    "    count_mark_0 = (submissions_user['mark'] == 0).sum()\n",
    "    count_between_0_and_1 = ((submissions_user['mark'] > 0) & (submissions_user['mark'] < 1)).sum()\n",
    "\n",
    "    sizes = [count_mark_1, count_between_0_and_1, count_mark_0, suma_valores_distintos]\n",
    "    labels = ['10', 'Other', '0', 'NaN']\n",
    "    colors = ['#8BC34A', '#FFC107', '#FF4C4C', '#696969']  # Verde, rojo, amarillo, gris oscuro (DimGray)\n",
    "\n",
    "    # Crear el gráfico circular con ajustes para evitar superposición\n",
    "    plt.pie(\n",
    "        sizes,\n",
    "        labels=labels,\n",
    "        autopct='%1.1f%%',\n",
    "        startangle=90,\n",
    "        colors=colors,\n",
    "        textprops={'fontsize': fontsize},\n",
    "        labeldistance=1.1,      # Alejar las etiquetas del centro\n",
    "        pctdistance=.7  # Ajustar la posición de los porcentajes\n",
    "    )\n",
    "\n",
    "    plt.axis('equal')\n",
    "\n",
    "    \n",
    "    return plt\n",
    "\n"
   ]
  },
  {
   "cell_type": "code",
   "execution_count": 207,
   "metadata": {},
   "outputs": [
    {
     "name": "stderr",
     "output_type": "stream",
     "text": [
      "C:\\Users\\Aleix\\AppData\\Local\\Temp\\ipykernel_7204\\2142514871.py:6: DtypeWarning: Columns (12) have mixed types. Specify dtype option on import or set low_memory=False.\n",
      "  submissions = pd.read_csv(\"./../../data/dataset.csv\")\n"
     ]
    },
    {
     "data": {
      "image/png": "[encoded data removed]",
      "text/plain": [
       "<Figure size 640x480 with 1 Axes>"
      ]
     },
     "metadata": {},
     "output_type": "display_data"
    }
   ],
   "source": [
    "pie_chart_submissions_user(155).show()"
   ]
  },
  {
   "cell_type": "code",
   "execution_count": null,
   "metadata": {},
   "outputs": [],
   "source": []
  },
  {
   "cell_type": "code",
   "execution_count": 208,
   "metadata": {},
   "outputs": [],
   "source": [
    "import pandas as pd\n",
    "import matplotlib.pyplot as plt\n",
    "\n",
    "def pie_chart_submissions_user_aula(user_id, aula_id):\n",
    "    fontsize = 18\n",
    "    submissions = pd.read_csv(\"./../../data/dataset.csv\")\n",
    "    submissions = submissions[['userid', 'aula_id', 'activitat', \"activitat_id\", 'datesubmitted', 'attempt_number', 'mark', 'count_activities']]\n",
    "\n",
    "    submissions_user = submissions[submissions[\"userid\"] == user_id]\n",
    "    submissions_user = submissions_user[submissions_user[\"aula_id\"] == aula_id]\n",
    "\n",
    "    conteo_por_aula = submissions_user.groupby('aula_id').size()\n",
    "    conteo_por_aula = conteo_por_aula.rename('conteo_registros').reset_index()\n",
    "    submissions_user = submissions_user.merge(conteo_por_aula, on='aula_id', how='left')\n",
    "    submissions_user['diferencia'] = submissions_user['count_activities'] - submissions_user['conteo_registros']\n",
    "\n",
    "    # Paso 2: Contar registros por aula_id y agregarlo como columna 'conteo_registros'\n",
    "    conteo_por_aula = submissions_user.groupby('aula_id').size()\n",
    "    conteo_por_aula = conteo_por_aula.rename('conteo_registros').reset_index()\n",
    "\n",
    "    if 'conteo_registros' in submissions_user.columns:\n",
    "        submissions_user = submissions_user.drop(columns=['conteo_registros'])\n",
    "\n",
    "    submissions_user = submissions_user.merge(conteo_por_aula, on='aula_id', how='left')\n",
    "    submissions_user['diferencia'] = submissions_user['count_activities'] - submissions_user['conteo_registros']\n",
    "\n",
    "    suma_valores_distintos = submissions_user['diferencia'].unique().sum()\n",
    "    \n",
    "    count_mark_1 = (submissions_user['mark'] == 1).sum()\n",
    "    count_mark_0 = (submissions_user['mark'] == 0).sum()\n",
    "    count_between_0_and_1 = ((submissions_user['mark'] > 0) & (submissions_user['mark'] < 1)).sum()\n",
    "\n",
    "    sizes = [count_mark_1, count_between_0_and_1, count_mark_0, suma_valores_distintos]\n",
    "    labels = ['10', 'Other', '0', 'NaN']\n",
    "    colors = ['#8BC34A', '#FFC107', '#FF4C4C', '#696969']  # Verde, rojo, amarillo, gris oscuro (DimGray)\n",
    "\n",
    "    # Crear el gráfico circular con fontsize aplicado\n",
    "    plt.pie(\n",
    "        sizes,\n",
    "        labels=labels,\n",
    "        autopct='%1.1f%%',\n",
    "        startangle=90,\n",
    "        colors=colors,\n",
    "        textprops={'fontsize': fontsize},\n",
    "        pctdistance=.7 \n",
    "    )\n",
    "\n",
    "    plt.axis('equal')\n",
    "\n",
    "    \n",
    "    return plt\n"
   ]
  },
  {
   "cell_type": "code",
   "execution_count": 209,
   "metadata": {},
   "outputs": [
    {
     "name": "stderr",
     "output_type": "stream",
     "text": [
      "C:\\Users\\Aleix\\AppData\\Local\\Temp\\ipykernel_7204\\1924058255.py:6: DtypeWarning: Columns (12) have mixed types. Specify dtype option on import or set low_memory=False.\n",
      "  submissions = pd.read_csv(\"./../../data/dataset.csv\")\n"
     ]
    },
    {
     "data": {
      "image/png": "[encoded data removed]",
      "text/plain": [
       "<Figure size 640x480 with 1 Axes>"
      ]
     },
     "metadata": {},
     "output_type": "display_data"
    }
   ],
   "source": [
    "pie_chart_submissions_user_aula(155, 92).show()"
   ]
  },
  {
   "cell_type": "markdown",
   "metadata": {},
   "source": [
    "Num Activities Submitted and Average Mark"
   ]
  },
  {
   "cell_type": "code",
   "execution_count": 143,
   "metadata": {},
   "outputs": [],
   "source": [
    "def stats_submitions(user_id, aula_id):\n",
    "    submissions =  pd.read_csv(\"./../../data/dataset.csv\")\n",
    "    submissions = submissions[['userid', 'aula_id', 'activitat',\"activitat_id\", 'datesubmitted', 'attempt_number', 'mark', 'count_activities']]\n",
    "\n",
    "\n",
    "    submissions_user = submissions[submissions[\"userid\"] == user_id]\n",
    "    submissions_user = submissions_user[ submissions_user[\"aula_id\"] == aula_id]\n",
    "    submissions_user\n",
    "\n",
    "    # Número de registros en submissions_user\n",
    "    num_registros = len(submissions_user)\n",
    "\n",
    "    # Promedio de la columna 'mark'\n",
    "    average_mark = submissions_user['mark'].mean()\n",
    "\n",
    "    # Crear un array con los resultados\n",
    "    resultado = np.array([num_registros, average_mark])\n",
    "\n",
    "    # Mostrar el resultado\n",
    "    return resultado\n"
   ]
  },
  {
   "cell_type": "code",
   "execution_count": 144,
   "metadata": {},
   "outputs": [
    {
     "name": "stderr",
     "output_type": "stream",
     "text": [
      "C:\\Users\\Aleix\\AppData\\Local\\Temp\\ipykernel_7204\\2936716400.py:2: DtypeWarning: Columns (12) have mixed types. Specify dtype option on import or set low_memory=False.\n",
      "  submissions =  pd.read_csv(\"./../../data/dataset.csv\")\n"
     ]
    },
    {
     "data": {
      "text/plain": [
       "array([59.        ,  0.93610169])"
      ]
     },
     "execution_count": 144,
     "metadata": {},
     "output_type": "execute_result"
    }
   ],
   "source": [
    "stats_submitions(user_id, aula_id)"
   ]
  },
  {
   "cell_type": "markdown",
   "metadata": {},
   "source": [
    "Grafica Submittions"
   ]
  },
  {
   "cell_type": "code",
   "execution_count": 212,
   "metadata": {},
   "outputs": [],
   "source": [
    "def submition_temporal_graph(user_id, aula_id):\n",
    "    import matplotlib.dates as mdates\n",
    "    fontsize = 18\n",
    "\n",
    "    submissions =  pd.read_csv(\"./../../data/dataset.csv\")\n",
    "    submissions = submissions[['userid', 'aula_id', 'activitat',\"activitat_id\", 'datesubmitted', 'attempt_number', 'mark', 'count_activities']]\n",
    "\n",
    "\n",
    "    submissions_user = submissions[submissions[\"userid\"] == user_id]\n",
    "    submissions_user = submissions_user[ submissions_user[\"aula_id\"] == aula_id]\n",
    "\n",
    "    # Convertir la columna 'datesubmitted' a formato de fecha (sin horas)\n",
    "    submissions_user['datesubmitted'] = pd.to_datetime(submissions_user['datesubmitted']).dt.date\n",
    "\n",
    "    # Agrupar por 'datesubmitted' y sumar los valores de 'attempt_number'\n",
    "    submissions_agrupado = submissions_user.groupby('datesubmitted', as_index=False)['attempt_number'].sum()\n",
    "\n",
    "    # Crear el gráfico\n",
    "    plt.figure(figsize=(10, 5))\n",
    "    plt.plot(submissions_agrupado['datesubmitted'], submissions_agrupado['attempt_number'], marker='o', linestyle='-', color='#c09268', linewidth=3)\n",
    "\n",
    "    # Personalizar el gráfico para un estilo minimalista\n",
    "\n",
    "    plt.xlabel('', fontsize=fontsize)\n",
    "    plt.ylabel('Submitions', fontsize=fontsize)\n",
    "    plt.xticks(rotation=45, fontsize = fontsize)\n",
    "    plt.yticks(np.arange(0, submissions_agrupado['attempt_number'].max() + 1, 5), fontsize= fontsize)\n",
    "\n",
    "    # Formato de la fecha en el eje X\n",
    "    plt.gca().xaxis.set_major_formatter(mdates.DateFormatter('%d-%m-%y'))\n",
    "\n",
    "    # Ocultar bordes no deseados\n",
    "    plt.gca().spines['top'].set_visible(False)\n",
    "    plt.gca().spines['right'].set_visible(False)\n",
    "    plt.gca().spines['left'].set_visible(True)\n",
    "    plt.gca().spines['bottom'].set_visible(True)\n",
    "\n",
    "        # Ajustar y mostrar el gráfico\n",
    "    plt.tight_layout()\n",
    "    return plt\n"
   ]
  },
  {
   "cell_type": "code",
   "execution_count": 213,
   "metadata": {},
   "outputs": [
    {
     "name": "stderr",
     "output_type": "stream",
     "text": [
      "C:\\Users\\Aleix\\AppData\\Local\\Temp\\ipykernel_7204\\4191871996.py:5: DtypeWarning: Columns (12) have mixed types. Specify dtype option on import or set low_memory=False.\n",
      "  submissions =  pd.read_csv(\"./../../data/dataset.csv\")\n"
     ]
    },
    {
     "data": {
      "image/png": "[encoded data removed]",
      "text/plain": [
       "<Figure size 1000x500 with 1 Axes>"
      ]
     },
     "metadata": {},
     "output_type": "display_data"
    }
   ],
   "source": [
    "submition_temporal_graph(user_id, aula_id).show()"
   ]
  },
  {
   "cell_type": "code",
   "execution_count": null,
   "metadata": {},
   "outputs": [],
   "source": []
  },
  {
   "cell_type": "code",
   "execution_count": null,
   "metadata": {},
   "outputs": [],
   "source": []
  }
 ],
 "metadata": {
  "kernelspec": {
   "display_name": "Python 3",
   "language": "python",
   "name": "python3"
  },
  "language_info": {
   "codemirror_mode": {
    "name": "ipython",
    "version": 3
   },
   "file_extension": ".py",
   "mimetype": "text/x-python",
   "name": "python",
   "nbconvert_exporter": "python",
   "pygments_lexer": "ipython3",
   "version": "3.10.11"
  }
 },
 "nbformat": 4,
 "nbformat_minor": 2
}
