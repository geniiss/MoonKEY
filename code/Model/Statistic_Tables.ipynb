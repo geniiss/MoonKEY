{
 "cells": [
  {
   "cell_type": "code",
   "execution_count": 51,
   "metadata": {},
   "outputs": [],
   "source": [
    "import pandas as pd\n",
    "import numpy as np\n",
    "\n",
    "activities = pd.read_csv(\"./../../data/activitats.csv\", encoding='ISO-8859-1')\n",
    "marks = pd.read_csv(\"./../../data/notes.csv\", delimiter=';')\n",
    "submision = pd.read_csv(\"./../../data/trameses.csv\")\n"
   ]
  },
  {
   "cell_type": "code",
   "execution_count": 27,
   "metadata": {},
   "outputs": [
    {
     "data": {
      "text/html": [
       "<div>\n",
       "<style scoped>\n",
       "    .dataframe tbody tr th:only-of-type {\n",
       "        vertical-align: middle;\n",
       "    }\n",
       "\n",
       "    .dataframe tbody tr th {\n",
       "        vertical-align: top;\n",
       "    }\n",
       "\n",
       "    .dataframe thead th {\n",
       "        text-align: right;\n",
       "    }\n",
       "</style>\n",
       "<table border=\"1\" class=\"dataframe\">\n",
       "  <thead>\n",
       "    <tr style=\"text-align: right;\">\n",
       "      <th></th>\n",
       "      <th>userid</th>\n",
       "      <th>aula_id</th>\n",
       "      <th>P_Grade</th>\n",
       "      <th>P_Grade_Date</th>\n",
       "      <th>F_Grade</th>\n",
       "      <th>F_Grade_Date</th>\n",
       "      <th>R_Grade</th>\n",
       "      <th>R_Grade_Date</th>\n",
       "    </tr>\n",
       "  </thead>\n",
       "  <tbody>\n",
       "    <tr>\n",
       "      <th>0</th>\n",
       "      <td>176</td>\n",
       "      <td>92</td>\n",
       "      <td>NaN</td>\n",
       "      <td>NaN</td>\n",
       "      <td>9,25</td>\n",
       "      <td>1667829600</td>\n",
       "      <td>NaN</td>\n",
       "      <td>1675173600</td>\n",
       "    </tr>\n",
       "    <tr>\n",
       "      <th>1</th>\n",
       "      <td>179</td>\n",
       "      <td>92</td>\n",
       "      <td>NaN</td>\n",
       "      <td>NaN</td>\n",
       "      <td>7,75</td>\n",
       "      <td>1667829600</td>\n",
       "      <td>NaN</td>\n",
       "      <td>1675173600</td>\n",
       "    </tr>\n",
       "    <tr>\n",
       "      <th>2</th>\n",
       "      <td>168</td>\n",
       "      <td>92</td>\n",
       "      <td>NaN</td>\n",
       "      <td>NaN</td>\n",
       "      <td>7,75</td>\n",
       "      <td>1667829600</td>\n",
       "      <td>NaN</td>\n",
       "      <td>1675173600</td>\n",
       "    </tr>\n",
       "    <tr>\n",
       "      <th>3</th>\n",
       "      <td>401</td>\n",
       "      <td>92</td>\n",
       "      <td>NaN</td>\n",
       "      <td>NaN</td>\n",
       "      <td>3,50</td>\n",
       "      <td>1667829600</td>\n",
       "      <td>8,25</td>\n",
       "      <td>1675173600</td>\n",
       "    </tr>\n",
       "    <tr>\n",
       "      <th>4</th>\n",
       "      <td>482</td>\n",
       "      <td>92</td>\n",
       "      <td>NaN</td>\n",
       "      <td>NaN</td>\n",
       "      <td>7,00</td>\n",
       "      <td>1667829600</td>\n",
       "      <td>NaN</td>\n",
       "      <td>1675173600</td>\n",
       "    </tr>\n",
       "  </tbody>\n",
       "</table>\n",
       "</div>"
      ],
      "text/plain": [
       "   userid  aula_id P_Grade  P_Grade_Date F_Grade  F_Grade_Date R_Grade  \\\n",
       "0     176       92     NaN           NaN    9,25    1667829600     NaN   \n",
       "1     179       92     NaN           NaN    7,75    1667829600     NaN   \n",
       "2     168       92     NaN           NaN    7,75    1667829600     NaN   \n",
       "3     401       92     NaN           NaN    3,50    1667829600    8,25   \n",
       "4     482       92     NaN           NaN    7,00    1667829600     NaN   \n",
       "\n",
       "   R_Grade_Date  \n",
       "0    1675173600  \n",
       "1    1675173600  \n",
       "2    1675173600  \n",
       "3    1675173600  \n",
       "4    1675173600  "
      ]
     },
     "execution_count": 27,
     "metadata": {},
     "output_type": "execute_result"
    }
   ],
   "source": [
    "marks.head()"
   ]
  },
  {
   "cell_type": "markdown",
   "metadata": {},
   "source": [
    "Academic Record"
   ]
  },
  {
   "cell_type": "code",
   "execution_count": 47,
   "metadata": {},
   "outputs": [],
   "source": [
    "def Academic_Record(user_id):\n",
    "    marks_user = marks[(marks[\"userid\"] == user_id)]\n",
    "\n",
    "    #Transforma los formatos de fecha UNIX\n",
    "    marks_user.loc[:,'P_Grade_Date'] = pd.to_datetime(marks_user.loc[:,'P_Grade_Date'], unit='s').dt.date\n",
    "    marks_user.loc[:,'F_Grade_Date'] = pd.to_datetime(marks_user.loc[:,'F_Grade_Date'], unit='s').dt.date\n",
    "    marks_user.loc[:,'R_Grade_Date'] = pd.to_datetime(marks_user.loc[:,'R_Grade_Date'], unit='s').dt.date\n",
    "\n",
    "    #Obtiene la nota y fecha de convocatoria finales (se actualiza la nota final en caso de hacerse recuperacion)\n",
    "    marks_user['Nota_Final'] = np.where(marks_user['R_Grade'].notna(), marks_user['R_Grade'], marks_user['F_Grade'])\n",
    "    marks_user['Fecha_Final'] = np.where(marks_user['R_Grade'].notna(), marks_user['R_Grade_Date'], marks_user['F_Grade_Date'])\n",
    "\n",
    "    #Filtra los campos finales\n",
    "    marks_user_record = marks_user[[\"aula_id\", \"Nota_Final\", \"Fecha_Final\"]]\n",
    "\n",
    "    return marks_user_record"
   ]
  },
  {
   "cell_type": "code",
   "execution_count": 39,
   "metadata": {},
   "outputs": [
    {
     "name": "stderr",
     "output_type": "stream",
     "text": [
      "C:\\Users\\Aleix\\AppData\\Local\\Temp\\ipykernel_8884\\2348586516.py:5: FutureWarning: Setting an item of incompatible dtype is deprecated and will raise in a future error of pandas. Value '[datetime.date(2022, 11, 7) datetime.date(2023, 11, 13)]' has dtype incompatible with int64, please explicitly cast to a compatible dtype first.\n",
      "  marks_user.loc[:,'F_Grade_Date'] = pd.to_datetime(marks_user.loc[:,'F_Grade_Date'], unit='s').dt.date\n",
      "C:\\Users\\Aleix\\AppData\\Local\\Temp\\ipykernel_8884\\2348586516.py:6: FutureWarning: Setting an item of incompatible dtype is deprecated and will raise in a future error of pandas. Value '[datetime.date(2023, 1, 31) datetime.date(2024, 1, 25)]' has dtype incompatible with int64, please explicitly cast to a compatible dtype first.\n",
      "  marks_user.loc[:,'R_Grade_Date'] = pd.to_datetime(marks_user.loc[:,'R_Grade_Date'], unit='s').dt.date\n",
      "C:\\Users\\Aleix\\AppData\\Local\\Temp\\ipykernel_8884\\2348586516.py:9: SettingWithCopyWarning: \n",
      "A value is trying to be set on a copy of a slice from a DataFrame.\n",
      "Try using .loc[row_indexer,col_indexer] = value instead\n",
      "\n",
      "See the caveats in the documentation: https://pandas.pydata.org/pandas-docs/stable/user_guide/indexing.html#returning-a-view-versus-a-copy\n",
      "  marks_user['Nota_Final'] = np.where(marks_user['R_Grade'].notna(), marks_user['R_Grade'], marks_user['F_Grade'])\n",
      "C:\\Users\\Aleix\\AppData\\Local\\Temp\\ipykernel_8884\\2348586516.py:10: SettingWithCopyWarning: \n",
      "A value is trying to be set on a copy of a slice from a DataFrame.\n",
      "Try using .loc[row_indexer,col_indexer] = value instead\n",
      "\n",
      "See the caveats in the documentation: https://pandas.pydata.org/pandas-docs/stable/user_guide/indexing.html#returning-a-view-versus-a-copy\n",
      "  marks_user['Fecha_Final'] = np.where(marks_user['R_Grade'].notna(), marks_user['R_Grade_Date'], marks_user['F_Grade_Date'])\n"
     ]
    },
    {
     "data": {
      "text/html": [
       "<div>\n",
       "<style scoped>\n",
       "    .dataframe tbody tr th:only-of-type {\n",
       "        vertical-align: middle;\n",
       "    }\n",
       "\n",
       "    .dataframe tbody tr th {\n",
       "        vertical-align: top;\n",
       "    }\n",
       "\n",
       "    .dataframe thead th {\n",
       "        text-align: right;\n",
       "    }\n",
       "</style>\n",
       "<table border=\"1\" class=\"dataframe\">\n",
       "  <thead>\n",
       "    <tr style=\"text-align: right;\">\n",
       "      <th></th>\n",
       "      <th>aula_id</th>\n",
       "      <th>Nota_Final</th>\n",
       "      <th>Fecha_Final</th>\n",
       "    </tr>\n",
       "  </thead>\n",
       "  <tbody>\n",
       "    <tr>\n",
       "      <th>34</th>\n",
       "      <td>92</td>\n",
       "      <td>5,75</td>\n",
       "      <td>2022-11-07</td>\n",
       "    </tr>\n",
       "    <tr>\n",
       "      <th>352</th>\n",
       "      <td>143</td>\n",
       "      <td>8,65</td>\n",
       "      <td>2023-11-13</td>\n",
       "    </tr>\n",
       "  </tbody>\n",
       "</table>\n",
       "</div>"
      ],
      "text/plain": [
       "     aula_id Nota_Final Fecha_Final\n",
       "34        92       5,75  2022-11-07\n",
       "352      143       8,65  2023-11-13"
      ]
     },
     "execution_count": 39,
     "metadata": {},
     "output_type": "execute_result"
    }
   ],
   "source": [
    "Academic_Record(155)"
   ]
  },
  {
   "cell_type": "markdown",
   "metadata": {},
   "source": [
    "Datos asignatura y user id"
   ]
  },
  {
   "cell_type": "code",
   "execution_count": 45,
   "metadata": {},
   "outputs": [],
   "source": [
    "def Academic_Record_Subject(user_id, aula_id):\n",
    "    marks_user = marks[(marks[\"userid\"] == user_id)]\n",
    "\n",
    "    #Transforma los formatos de fecha UNIX\n",
    "    marks_user.loc[:,'P_Grade_Date'] = pd.to_datetime(marks_user.loc[:,'P_Grade_Date'], unit='s').dt.date\n",
    "    marks_user.loc[:,'F_Grade_Date'] = pd.to_datetime(marks_user.loc[:,'F_Grade_Date'], unit='s').dt.date\n",
    "    marks_user.loc[:,'R_Grade_Date'] = pd.to_datetime(marks_user.loc[:,'R_Grade_Date'], unit='s').dt.date\n",
    "\n",
    "    return marks_user[marks[\"aula_id\"] == aula_id]"
   ]
  },
  {
   "cell_type": "code",
   "execution_count": 48,
   "metadata": {},
   "outputs": [
    {
     "name": "stderr",
     "output_type": "stream",
     "text": [
      "C:\\Users\\Aleix\\AppData\\Local\\Temp\\ipykernel_8884\\2234939358.py:5: FutureWarning: Setting an item of incompatible dtype is deprecated and will raise in a future error of pandas. Value '<DatetimeArray>\n",
      "['NaT', 'NaT']\n",
      "Length: 2, dtype: datetime64[ns]' has dtype incompatible with float64, please explicitly cast to a compatible dtype first.\n",
      "  marks_user.loc[:,'P_Grade_Date'] = pd.to_datetime(marks_user.loc[:,'P_Grade_Date'], unit='s').dt.date\n",
      "C:\\Users\\Aleix\\AppData\\Local\\Temp\\ipykernel_8884\\2234939358.py:6: FutureWarning: Setting an item of incompatible dtype is deprecated and will raise in a future error of pandas. Value '[datetime.date(2022, 11, 7) datetime.date(2023, 11, 13)]' has dtype incompatible with int64, please explicitly cast to a compatible dtype first.\n",
      "  marks_user.loc[:,'F_Grade_Date'] = pd.to_datetime(marks_user.loc[:,'F_Grade_Date'], unit='s').dt.date\n",
      "C:\\Users\\Aleix\\AppData\\Local\\Temp\\ipykernel_8884\\2234939358.py:7: FutureWarning: Setting an item of incompatible dtype is deprecated and will raise in a future error of pandas. Value '[datetime.date(2023, 1, 31) datetime.date(2024, 1, 25)]' has dtype incompatible with int64, please explicitly cast to a compatible dtype first.\n",
      "  marks_user.loc[:,'R_Grade_Date'] = pd.to_datetime(marks_user.loc[:,'R_Grade_Date'], unit='s').dt.date\n",
      "C:\\Users\\Aleix\\AppData\\Local\\Temp\\ipykernel_8884\\2234939358.py:9: UserWarning: Boolean Series key will be reindexed to match DataFrame index.\n",
      "  return marks_user[marks[\"aula_id\"] == aula_id]\n"
     ]
    },
    {
     "data": {
      "text/html": [
       "<div>\n",
       "<style scoped>\n",
       "    .dataframe tbody tr th:only-of-type {\n",
       "        vertical-align: middle;\n",
       "    }\n",
       "\n",
       "    .dataframe tbody tr th {\n",
       "        vertical-align: top;\n",
       "    }\n",
       "\n",
       "    .dataframe thead th {\n",
       "        text-align: right;\n",
       "    }\n",
       "</style>\n",
       "<table border=\"1\" class=\"dataframe\">\n",
       "  <thead>\n",
       "    <tr style=\"text-align: right;\">\n",
       "      <th></th>\n",
       "      <th>userid</th>\n",
       "      <th>aula_id</th>\n",
       "      <th>P_Grade</th>\n",
       "      <th>P_Grade_Date</th>\n",
       "      <th>F_Grade</th>\n",
       "      <th>F_Grade_Date</th>\n",
       "      <th>R_Grade</th>\n",
       "      <th>R_Grade_Date</th>\n",
       "    </tr>\n",
       "  </thead>\n",
       "  <tbody>\n",
       "    <tr>\n",
       "      <th>34</th>\n",
       "      <td>155</td>\n",
       "      <td>92</td>\n",
       "      <td>NaN</td>\n",
       "      <td>NaT</td>\n",
       "      <td>5,75</td>\n",
       "      <td>2022-11-07</td>\n",
       "      <td>NaN</td>\n",
       "      <td>2023-01-31</td>\n",
       "    </tr>\n",
       "  </tbody>\n",
       "</table>\n",
       "</div>"
      ],
      "text/plain": [
       "    userid  aula_id P_Grade P_Grade_Date F_Grade F_Grade_Date R_Grade  \\\n",
       "34     155       92     NaN          NaT    5,75   2022-11-07     NaN   \n",
       "\n",
       "   R_Grade_Date  \n",
       "34   2023-01-31  "
      ]
     },
     "execution_count": 48,
     "metadata": {},
     "output_type": "execute_result"
    }
   ],
   "source": [
    "Academic_Record_Subject(155, 92)"
   ]
  },
  {
   "cell_type": "markdown",
   "metadata": {},
   "source": [
    "Tablas Trameses"
   ]
  },
  {
   "cell_type": "code",
   "execution_count": 134,
   "metadata": {},
   "outputs": [],
   "source": [
    "def pie_chart_submissions_user(user_id):\n",
    "    submissions =  pd.read_csv(\"./../../data/dataset.csv\")\n",
    "    submissions = submissions[['userid', 'aula_id', 'activitat',\"activitat_id\", 'datesubmitted', 'attempt_number', 'mark', 'count_activities']]\n",
    "    submissions\n",
    "\n",
    "    submissions_user = submissions[submissions[\"userid\"] == user_id]\n",
    "    submissions_user\n",
    "\n",
    "    conteo_por_aula = submissions_user.groupby('aula_id').size()\n",
    "\n",
    "    # Convertir el conteo a un DataFrame y renombrar la columna\n",
    "    conteo_por_aula = conteo_por_aula.rename('conteo_registros').reset_index()\n",
    "\n",
    "    # Unir el conteo como una nueva columna en el DataFrame original\n",
    "    submissions_user = submissions_user.merge(conteo_por_aula, on='aula_id', how='left')\n",
    "    submissions_user['diferencia'] = submissions_user['count_activities'] - submissions_user['conteo_registros']\n",
    "\n",
    "\n",
    "\n",
    "    # Paso 2: Contar registros por aula_id y agregarlo como columna 'conteo_registros'\n",
    "    # Agrupamos el DataFrame submissions_user por 'aula_id' y contamos el número de registros en cada grupo\n",
    "    conteo_por_aula = submissions_user.groupby('aula_id').size()\n",
    "\n",
    "    # Renombramos la serie a 'conteo_registros' y la convertimos en un DataFrame\n",
    "    conteo_por_aula = conteo_por_aula.rename('conteo_registros').reset_index()\n",
    "\n",
    "    # Eliminar la columna 'conteo_registros' si ya existe en submissions_user\n",
    "    if 'conteo_registros' in submissions_user.columns:\n",
    "        submissions_user = submissions_user.drop(columns=['conteo_registros'])\n",
    "\n",
    "    # Realizamos un merge con submissions_user para agregar el conteo de registros como una nueva columna\n",
    "    submissions_user = submissions_user.merge(conteo_por_aula, on='aula_id', how='left')\n",
    "\n",
    "    # Paso 3: Crear la columna 'diferencia' como la resta entre 'count_activities' y 'conteo_registros'\n",
    "    # Restamos la columna 'conteo_registros' de 'count_activities' y guardamos el resultado en una nueva columna 'diferencia'\n",
    "    submissions_user['diferencia'] = submissions_user['count_activities'] - submissions_user['conteo_registros']\n",
    "\n",
    "    # Paso 4: Calcular suma_valores_distintos, la suma de los valores únicos en 'diferencia'\n",
    "    # Obtenemos los valores únicos en la columna 'diferencia' y calculamos su suma\n",
    "    suma_valores_distintos = submissions_user['diferencia'].unique().sum()\n",
    "    \n",
    "\n",
    "\n",
    "\n",
    "\n",
    "    count_mark_1 = (submissions_user['mark'] == 1).sum()\n",
    "\n",
    "    # Contar el número de registros donde mark es igual a 0\n",
    "    count_mark_0 = (submissions_user['mark'] == 0).sum()\n",
    "\n",
    "    # Contar el número de registros donde mark está entre 0 y 1\n",
    "    count_between_0_and_1 = ((submissions_user['mark'] > 0) & (submissions_user['mark'] < 1)).sum()\n",
    "\n",
    "\n",
    "    sizes = [count_mark_1, count_between_0_and_1, count_mark_0, suma_valores_distintos]\n",
    "    labels = ['10', 'Other', '0',  'NaN']\n",
    "    colors = ['#8BC34A', '#FFC107', '#FF4C4C', '#696969']  # Verde, rojo, amarillo, gris oscuro (DimGray)\n",
    "\n",
    "    # Crear el gráfico circular\n",
    "    plt.pie(\n",
    "        sizes,\n",
    "        labels=labels,\n",
    "        autopct='%1.1f%%',\n",
    "        startangle=90,\n",
    "        colors=colors\n",
    "    )\n",
    "\n",
    "    # Asegurarse de que el gráfico sea circular\n",
    "    plt.axis('equal')\n",
    "\n",
    "    # # Añadir la leyenda\n",
    "    # plt.legend(labels, loc=\"best\", title=\"Categorías\")\n",
    "\n",
    "    # Mostrar el gráfico\n",
    "    plt.show()"
   ]
  },
  {
   "cell_type": "code",
   "execution_count": 135,
   "metadata": {},
   "outputs": [
    {
     "name": "stderr",
     "output_type": "stream",
     "text": [
      "C:\\Users\\Aleix\\AppData\\Local\\Temp\\ipykernel_7204\\4176651102.py:2: DtypeWarning: Columns (12) have mixed types. Specify dtype option on import or set low_memory=False.\n",
      "  submissions =  pd.read_csv(\"./../../data/dataset.csv\")\n"
     ]
    },
    {
     "data": {
      "image/png": "[encoded data removed]",
      "text/plain": [
       "<Figure size 640x480 with 1 Axes>"
      ]
     },
     "metadata": {},
     "output_type": "display_data"
    }
   ],
   "source": [
    "pie_chart_submissions_user(155)"
   ]
  },
  {
   "cell_type": "code",
   "execution_count": null,
   "metadata": {},
   "outputs": [],
   "source": []
  },
  {
   "cell_type": "code",
   "execution_count": 136,
   "metadata": {},
   "outputs": [],
   "source": [
    " def pie_chart_submissions_user_aula(user_id, aula_id):\n",
    "    submissions =  pd.read_csv(\"./../../data/dataset.csv\")\n",
    "    submissions = submissions[['userid', 'aula_id', 'activitat',\"activitat_id\", 'datesubmitted', 'attempt_number', 'mark', 'count_activities']]\n",
    "\n",
    "\n",
    "    submissions_user = submissions[submissions[\"userid\"] == user_id]\n",
    "    submissions_user = submissions_user[ submissions_user[\"aula_id\"] == aula_id]\n",
    "    submissions_user\n",
    "\n",
    "    conteo_por_aula = submissions_user.groupby('aula_id').size()\n",
    "\n",
    "    # Convertir el conteo a un DataFrame y renombrar la columna\n",
    "    conteo_por_aula = conteo_por_aula.rename('conteo_registros').reset_index()\n",
    "\n",
    "    # Unir el conteo como una nueva columna en el DataFrame original\n",
    "    submissions_user = submissions_user.merge(conteo_por_aula, on='aula_id', how='left')\n",
    "    submissions_user['diferencia'] = submissions_user['count_activities'] - submissions_user['conteo_registros']\n",
    "\n",
    "\n",
    "\n",
    "    # Paso 2: Contar registros por aula_id y agregarlo como columna 'conteo_registros'\n",
    "    # Agrupamos el DataFrame submissions_user por 'aula_id' y contamos el número de registros en cada grupo\n",
    "    conteo_por_aula = submissions_user.groupby('aula_id').size()\n",
    "\n",
    "    # Renombramos la serie a 'conteo_registros' y la convertimos en un DataFrame\n",
    "    conteo_por_aula = conteo_por_aula.rename('conteo_registros').reset_index()\n",
    "\n",
    "    # Eliminar la columna 'conteo_registros' si ya existe en submissions_user\n",
    "    if 'conteo_registros' in submissions_user.columns:\n",
    "        submissions_user = submissions_user.drop(columns=['conteo_registros'])\n",
    "\n",
    "    # Realizamos un merge con submissions_user para agregar el conteo de registros como una nueva columna\n",
    "    submissions_user = submissions_user.merge(conteo_por_aula, on='aula_id', how='left')\n",
    "\n",
    "    # Paso 3: Crear la columna 'diferencia' como la resta entre 'count_activities' y 'conteo_registros'\n",
    "    # Restamos la columna 'conteo_registros' de 'count_activities' y guardamos el resultado en una nueva columna 'diferencia'\n",
    "    submissions_user['diferencia'] = submissions_user['count_activities'] - submissions_user['conteo_registros']\n",
    "\n",
    "    # Paso 4: Calcular suma_valores_distintos, la suma de los valores únicos en 'diferencia'\n",
    "    # Obtenemos los valores únicos en la columna 'diferencia' y calculamos su suma\n",
    "    suma_valores_distintos = submissions_user['diferencia'].unique().sum()\n",
    "    \n",
    "\n",
    "\n",
    "\n",
    "\n",
    "    count_mark_1 = (submissions_user['mark'] == 1).sum()\n",
    "\n",
    "    # Contar el número de registros donde mark es igual a 0\n",
    "    count_mark_0 = (submissions_user['mark'] == 0).sum()\n",
    "\n",
    "    # Contar el número de registros donde mark está entre 0 y 1\n",
    "    count_between_0_and_1 = ((submissions_user['mark'] > 0) & (submissions_user['mark'] < 1)).sum()\n",
    "    \n",
    "\n",
    "    sizes = [count_mark_1, count_between_0_and_1, count_mark_0, suma_valores_distintos]\n",
    "    labels = ['10', 'Other', '0',  'NaN']\n",
    "    colors = ['#8BC34A', '#FFC107', '#FF4C4C', '#696969']  # Verde, rojo, amarillo, gris oscuro (DimGray)\n",
    "\n",
    "    # Crear el gráfico circular\n",
    "    plt.pie(\n",
    "        sizes,\n",
    "        labels=labels,\n",
    "        autopct='%1.1f%%',\n",
    "        startangle=90,\n",
    "        colors=colors\n",
    "    )\n",
    "\n",
    "    # Asegurarse de que el gráfico sea circular\n",
    "    plt.axis('equal')\n",
    "\n",
    "    # # Añadir la leyenda\n",
    "    # plt.legend(labels, loc=\"best\", title=\"Categorías\")\n",
    "\n",
    "    # Mostrar el gráfico\n",
    "    plt.show()"
   ]
  },
  {
   "cell_type": "code",
   "execution_count": 137,
   "metadata": {},
   "outputs": [
    {
     "name": "stderr",
     "output_type": "stream",
     "text": [
      "C:\\Users\\Aleix\\AppData\\Local\\Temp\\ipykernel_7204\\795910829.py:2: DtypeWarning: Columns (12) have mixed types. Specify dtype option on import or set low_memory=False.\n",
      "  submissions =  pd.read_csv(\"./../../data/dataset.csv\")\n"
     ]
    },
    {
     "data": {
      "image/png": "[encoded data removed]",
      "text/plain": [
       "<Figure size 640x480 with 1 Axes>"
      ]
     },
     "metadata": {},
     "output_type": "display_data"
    }
   ],
   "source": [
    "pie_chart_submissions_user_aula(155, 92)"
   ]
  },
  {
   "cell_type": "markdown",
   "metadata": {},
   "source": [
    "Num Activities Submitted and Average Mark"
   ]
  },
  {
   "cell_type": "code",
   "execution_count": 143,
   "metadata": {},
   "outputs": [],
   "source": [
    "def stats_submitions(user_id, aula_id):\n",
    "    submissions =  pd.read_csv(\"./../../data/dataset.csv\")\n",
    "    submissions = submissions[['userid', 'aula_id', 'activitat',\"activitat_id\", 'datesubmitted', 'attempt_number', 'mark', 'count_activities']]\n",
    "\n",
    "\n",
    "    submissions_user = submissions[submissions[\"userid\"] == user_id]\n",
    "    submissions_user = submissions_user[ submissions_user[\"aula_id\"] == aula_id]\n",
    "    submissions_user\n",
    "\n",
    "    # Número de registros en submissions_user\n",
    "    num_registros = len(submissions_user)\n",
    "\n",
    "    # Promedio de la columna 'mark'\n",
    "    average_mark = submissions_user['mark'].mean()\n",
    "\n",
    "    # Crear un array con los resultados\n",
    "    resultado = np.array([num_registros, average_mark])\n",
    "\n",
    "    # Mostrar el resultado\n",
    "    return resultado\n"
   ]
  },
  {
   "cell_type": "code",
   "execution_count": 144,
   "metadata": {},
   "outputs": [
    {
     "name": "stderr",
     "output_type": "stream",
     "text": [
      "C:\\Users\\Aleix\\AppData\\Local\\Temp\\ipykernel_7204\\2936716400.py:2: DtypeWarning: Columns (12) have mixed types. Specify dtype option on import or set low_memory=False.\n",
      "  submissions =  pd.read_csv(\"./../../data/dataset.csv\")\n"
     ]
    },
    {
     "data": {
      "text/plain": [
       "array([59.        ,  0.93610169])"
      ]
     },
     "execution_count": 144,
     "metadata": {},
     "output_type": "execute_result"
    }
   ],
   "source": [
    "stats_submitions(user_id, aula_id)"
   ]
  },
  {
   "cell_type": "markdown",
   "metadata": {},
   "source": []
  },
  {
   "cell_type": "code",
   "execution_count": null,
   "metadata": {},
   "outputs": [],
   "source": []
  },
  {
   "cell_type": "code",
   "execution_count": null,
   "metadata": {},
   "outputs": [],
   "source": []
  },
  {
   "cell_type": "code",
   "execution_count": null,
   "metadata": {},
   "outputs": [],
   "source": []
  },
  {
   "cell_type": "code",
   "execution_count": null,
   "metadata": {},
   "outputs": [],
   "source": []
  },
  {
   "cell_type": "code",
   "execution_count": null,
   "metadata": {},
   "outputs": [],
   "source": []
  },
  {
   "cell_type": "code",
   "execution_count": null,
   "metadata": {},
   "outputs": [],
   "source": []
  },
  {
   "cell_type": "code",
   "execution_count": null,
   "metadata": {},
   "outputs": [],
   "source": []
  },
  {
   "cell_type": "code",
   "execution_count": null,
   "metadata": {},
   "outputs": [],
   "source": []
  },
  {
   "cell_type": "code",
   "execution_count": null,
   "metadata": {},
   "outputs": [],
   "source": []
  }
 ],
 "metadata": {
  "kernelspec": {
   "display_name": "Python 3",
   "language": "python",
   "name": "python3"
  },
  "language_info": {
   "codemirror_mode": {
    "name": "ipython",
    "version": 3
   },
   "file_extension": ".py",
   "mimetype": "text/x-python",
   "name": "python",
   "nbconvert_exporter": "python",
   "pygments_lexer": "ipython3",
   "version": "3.10.11"
  }
 },
 "nbformat": 4,
 "nbformat_minor": 2
}
