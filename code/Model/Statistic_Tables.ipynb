{
 "cells": [
  {
   "cell_type": "code",
   "execution_count": 51,
   "metadata": {},
   "outputs": [],
   "source": [
    "import pandas as pd\n",
    "import numpy as np\n",
    "\n",
    "activities = pd.read_csv(\"./../../data/activitats.csv\", encoding='ISO-8859-1')\n",
    "marks = pd.read_csv(\"./../../data/notes.csv\", delimiter=';')\n",
    "submision = pd.read_csv(\"./../../data/trameses.csv\")\n"
   ]
  },
  {
   "cell_type": "code",
   "execution_count": 27,
   "metadata": {},
   "outputs": [
    {
     "data": {
      "text/html": [
       "<div>\n",
       "<style scoped>\n",
       "    .dataframe tbody tr th:only-of-type {\n",
       "        vertical-align: middle;\n",
       "    }\n",
       "\n",
       "    .dataframe tbody tr th {\n",
       "        vertical-align: top;\n",
       "    }\n",
       "\n",
       "    .dataframe thead th {\n",
       "        text-align: right;\n",
       "    }\n",
       "</style>\n",
       "<table border=\"1\" class=\"dataframe\">\n",
       "  <thead>\n",
       "    <tr style=\"text-align: right;\">\n",
       "      <th></th>\n",
       "      <th>userid</th>\n",
       "      <th>aula_id</th>\n",
       "      <th>P_Grade</th>\n",
       "      <th>P_Grade_Date</th>\n",
       "      <th>F_Grade</th>\n",
       "      <th>F_Grade_Date</th>\n",
       "      <th>R_Grade</th>\n",
       "      <th>R_Grade_Date</th>\n",
       "    </tr>\n",
       "  </thead>\n",
       "  <tbody>\n",
       "    <tr>\n",
       "      <th>0</th>\n",
       "      <td>176</td>\n",
       "      <td>92</td>\n",
       "      <td>NaN</td>\n",
       "      <td>NaN</td>\n",
       "      <td>9,25</td>\n",
       "      <td>1667829600</td>\n",
       "      <td>NaN</td>\n",
       "      <td>1675173600</td>\n",
       "    </tr>\n",
       "    <tr>\n",
       "      <th>1</th>\n",
       "      <td>179</td>\n",
       "      <td>92</td>\n",
       "      <td>NaN</td>\n",
       "      <td>NaN</td>\n",
       "      <td>7,75</td>\n",
       "      <td>1667829600</td>\n",
       "      <td>NaN</td>\n",
       "      <td>1675173600</td>\n",
       "    </tr>\n",
       "    <tr>\n",
       "      <th>2</th>\n",
       "      <td>168</td>\n",
       "      <td>92</td>\n",
       "      <td>NaN</td>\n",
       "      <td>NaN</td>\n",
       "      <td>7,75</td>\n",
       "      <td>1667829600</td>\n",
       "      <td>NaN</td>\n",
       "      <td>1675173600</td>\n",
       "    </tr>\n",
       "    <tr>\n",
       "      <th>3</th>\n",
       "      <td>401</td>\n",
       "      <td>92</td>\n",
       "      <td>NaN</td>\n",
       "      <td>NaN</td>\n",
       "      <td>3,50</td>\n",
       "      <td>1667829600</td>\n",
       "      <td>8,25</td>\n",
       "      <td>1675173600</td>\n",
       "    </tr>\n",
       "    <tr>\n",
       "      <th>4</th>\n",
       "      <td>482</td>\n",
       "      <td>92</td>\n",
       "      <td>NaN</td>\n",
       "      <td>NaN</td>\n",
       "      <td>7,00</td>\n",
       "      <td>1667829600</td>\n",
       "      <td>NaN</td>\n",
       "      <td>1675173600</td>\n",
       "    </tr>\n",
       "  </tbody>\n",
       "</table>\n",
       "</div>"
      ],
      "text/plain": [
       "   userid  aula_id P_Grade  P_Grade_Date F_Grade  F_Grade_Date R_Grade  \\\n",
       "0     176       92     NaN           NaN    9,25    1667829600     NaN   \n",
       "1     179       92     NaN           NaN    7,75    1667829600     NaN   \n",
       "2     168       92     NaN           NaN    7,75    1667829600     NaN   \n",
       "3     401       92     NaN           NaN    3,50    1667829600    8,25   \n",
       "4     482       92     NaN           NaN    7,00    1667829600     NaN   \n",
       "\n",
       "   R_Grade_Date  \n",
       "0    1675173600  \n",
       "1    1675173600  \n",
       "2    1675173600  \n",
       "3    1675173600  \n",
       "4    1675173600  "
      ]
     },
     "execution_count": 27,
     "metadata": {},
     "output_type": "execute_result"
    }
   ],
   "source": [
    "marks.head()"
   ]
  },
  {
   "cell_type": "markdown",
   "metadata": {},
   "source": [
    "Academic Record"
   ]
  },
  {
   "cell_type": "code",
   "execution_count": 47,
   "metadata": {},
   "outputs": [],
   "source": [
    "def Academic_Record(user_id):\n",
    "    marks_user = marks[(marks[\"userid\"] == user_id)]\n",
    "\n",
    "    #Transforma los formatos de fecha UNIX\n",
    "    marks_user.loc[:,'P_Grade_Date'] = pd.to_datetime(marks_user.loc[:,'P_Grade_Date'], unit='s').dt.date\n",
    "    marks_user.loc[:,'F_Grade_Date'] = pd.to_datetime(marks_user.loc[:,'F_Grade_Date'], unit='s').dt.date\n",
    "    marks_user.loc[:,'R_Grade_Date'] = pd.to_datetime(marks_user.loc[:,'R_Grade_Date'], unit='s').dt.date\n",
    "\n",
    "    #Obtiene la nota y fecha de convocatoria finales (se actualiza la nota final en caso de hacerse recuperacion)\n",
    "    marks_user['Nota_Final'] = np.where(marks_user['R_Grade'].notna(), marks_user['R_Grade'], marks_user['F_Grade'])\n",
    "    marks_user['Fecha_Final'] = np.where(marks_user['R_Grade'].notna(), marks_user['R_Grade_Date'], marks_user['F_Grade_Date'])\n",
    "\n",
    "    #Filtra los campos finales\n",
    "    marks_user_record = marks_user[[\"aula_id\", \"Nota_Final\", \"Fecha_Final\"]]\n",
    "\n",
    "    return marks_user_record"
   ]
  },
  {
   "cell_type": "code",
   "execution_count": 39,
   "metadata": {},
   "outputs": [
    {
     "name": "stderr",
     "output_type": "stream",
     "text": [
      "C:\\Users\\Aleix\\AppData\\Local\\Temp\\ipykernel_8884\\2348586516.py:5: FutureWarning: Setting an item of incompatible dtype is deprecated and will raise in a future error of pandas. Value '[datetime.date(2022, 11, 7) datetime.date(2023, 11, 13)]' has dtype incompatible with int64, please explicitly cast to a compatible dtype first.\n",
      "  marks_user.loc[:,'F_Grade_Date'] = pd.to_datetime(marks_user.loc[:,'F_Grade_Date'], unit='s').dt.date\n",
      "C:\\Users\\Aleix\\AppData\\Local\\Temp\\ipykernel_8884\\2348586516.py:6: FutureWarning: Setting an item of incompatible dtype is deprecated and will raise in a future error of pandas. Value '[datetime.date(2023, 1, 31) datetime.date(2024, 1, 25)]' has dtype incompatible with int64, please explicitly cast to a compatible dtype first.\n",
      "  marks_user.loc[:,'R_Grade_Date'] = pd.to_datetime(marks_user.loc[:,'R_Grade_Date'], unit='s').dt.date\n",
      "C:\\Users\\Aleix\\AppData\\Local\\Temp\\ipykernel_8884\\2348586516.py:9: SettingWithCopyWarning: \n",
      "A value is trying to be set on a copy of a slice from a DataFrame.\n",
      "Try using .loc[row_indexer,col_indexer] = value instead\n",
      "\n",
      "See the caveats in the documentation: https://pandas.pydata.org/pandas-docs/stable/user_guide/indexing.html#returning-a-view-versus-a-copy\n",
      "  marks_user['Nota_Final'] = np.where(marks_user['R_Grade'].notna(), marks_user['R_Grade'], marks_user['F_Grade'])\n",
      "C:\\Users\\Aleix\\AppData\\Local\\Temp\\ipykernel_8884\\2348586516.py:10: SettingWithCopyWarning: \n",
      "A value is trying to be set on a copy of a slice from a DataFrame.\n",
      "Try using .loc[row_indexer,col_indexer] = value instead\n",
      "\n",
      "See the caveats in the documentation: https://pandas.pydata.org/pandas-docs/stable/user_guide/indexing.html#returning-a-view-versus-a-copy\n",
      "  marks_user['Fecha_Final'] = np.where(marks_user['R_Grade'].notna(), marks_user['R_Grade_Date'], marks_user['F_Grade_Date'])\n"
     ]
    },
    {
     "data": {
      "text/html": [
       "<div>\n",
       "<style scoped>\n",
       "    .dataframe tbody tr th:only-of-type {\n",
       "        vertical-align: middle;\n",
       "    }\n",
       "\n",
       "    .dataframe tbody tr th {\n",
       "        vertical-align: top;\n",
       "    }\n",
       "\n",
       "    .dataframe thead th {\n",
       "        text-align: right;\n",
       "    }\n",
       "</style>\n",
       "<table border=\"1\" class=\"dataframe\">\n",
       "  <thead>\n",
       "    <tr style=\"text-align: right;\">\n",
       "      <th></th>\n",
       "      <th>aula_id</th>\n",
       "      <th>Nota_Final</th>\n",
       "      <th>Fecha_Final</th>\n",
       "    </tr>\n",
       "  </thead>\n",
       "  <tbody>\n",
       "    <tr>\n",
       "      <th>34</th>\n",
       "      <td>92</td>\n",
       "      <td>5,75</td>\n",
       "      <td>2022-11-07</td>\n",
       "    </tr>\n",
       "    <tr>\n",
       "      <th>352</th>\n",
       "      <td>143</td>\n",
       "      <td>8,65</td>\n",
       "      <td>2023-11-13</td>\n",
       "    </tr>\n",
       "  </tbody>\n",
       "</table>\n",
       "</div>"
      ],
      "text/plain": [
       "     aula_id Nota_Final Fecha_Final\n",
       "34        92       5,75  2022-11-07\n",
       "352      143       8,65  2023-11-13"
      ]
     },
     "execution_count": 39,
     "metadata": {},
     "output_type": "execute_result"
    }
   ],
   "source": [
    "Academic_Record(155)"
   ]
  },
  {
   "cell_type": "markdown",
   "metadata": {},
   "source": [
    "Datos asignatura y user id"
   ]
  },
  {
   "cell_type": "code",
   "execution_count": 45,
   "metadata": {},
   "outputs": [],
   "source": [
    "def Academic_Record_Subject(user_id, aula_id):\n",
    "    marks_user = marks[(marks[\"userid\"] == user_id)]\n",
    "\n",
    "    #Transforma los formatos de fecha UNIX\n",
    "    marks_user.loc[:,'P_Grade_Date'] = pd.to_datetime(marks_user.loc[:,'P_Grade_Date'], unit='s').dt.date\n",
    "    marks_user.loc[:,'F_Grade_Date'] = pd.to_datetime(marks_user.loc[:,'F_Grade_Date'], unit='s').dt.date\n",
    "    marks_user.loc[:,'R_Grade_Date'] = pd.to_datetime(marks_user.loc[:,'R_Grade_Date'], unit='s').dt.date\n",
    "\n",
    "    return marks_user[marks[\"aula_id\"] == aula_id]"
   ]
  },
  {
   "cell_type": "code",
   "execution_count": 48,
   "metadata": {},
   "outputs": [
    {
     "name": "stderr",
     "output_type": "stream",
     "text": [
      "C:\\Users\\Aleix\\AppData\\Local\\Temp\\ipykernel_8884\\2234939358.py:5: FutureWarning: Setting an item of incompatible dtype is deprecated and will raise in a future error of pandas. Value '<DatetimeArray>\n",
      "['NaT', 'NaT']\n",
      "Length: 2, dtype: datetime64[ns]' has dtype incompatible with float64, please explicitly cast to a compatible dtype first.\n",
      "  marks_user.loc[:,'P_Grade_Date'] = pd.to_datetime(marks_user.loc[:,'P_Grade_Date'], unit='s').dt.date\n",
      "C:\\Users\\Aleix\\AppData\\Local\\Temp\\ipykernel_8884\\2234939358.py:6: FutureWarning: Setting an item of incompatible dtype is deprecated and will raise in a future error of pandas. Value '[datetime.date(2022, 11, 7) datetime.date(2023, 11, 13)]' has dtype incompatible with int64, please explicitly cast to a compatible dtype first.\n",
      "  marks_user.loc[:,'F_Grade_Date'] = pd.to_datetime(marks_user.loc[:,'F_Grade_Date'], unit='s').dt.date\n",
      "C:\\Users\\Aleix\\AppData\\Local\\Temp\\ipykernel_8884\\2234939358.py:7: FutureWarning: Setting an item of incompatible dtype is deprecated and will raise in a future error of pandas. Value '[datetime.date(2023, 1, 31) datetime.date(2024, 1, 25)]' has dtype incompatible with int64, please explicitly cast to a compatible dtype first.\n",
      "  marks_user.loc[:,'R_Grade_Date'] = pd.to_datetime(marks_user.loc[:,'R_Grade_Date'], unit='s').dt.date\n",
      "C:\\Users\\Aleix\\AppData\\Local\\Temp\\ipykernel_8884\\2234939358.py:9: UserWarning: Boolean Series key will be reindexed to match DataFrame index.\n",
      "  return marks_user[marks[\"aula_id\"] == aula_id]\n"
     ]
    },
    {
     "data": {
      "text/html": [
       "<div>\n",
       "<style scoped>\n",
       "    .dataframe tbody tr th:only-of-type {\n",
       "        vertical-align: middle;\n",
       "    }\n",
       "\n",
       "    .dataframe tbody tr th {\n",
       "        vertical-align: top;\n",
       "    }\n",
       "\n",
       "    .dataframe thead th {\n",
       "        text-align: right;\n",
       "    }\n",
       "</style>\n",
       "<table border=\"1\" class=\"dataframe\">\n",
       "  <thead>\n",
       "    <tr style=\"text-align: right;\">\n",
       "      <th></th>\n",
       "      <th>userid</th>\n",
       "      <th>aula_id</th>\n",
       "      <th>P_Grade</th>\n",
       "      <th>P_Grade_Date</th>\n",
       "      <th>F_Grade</th>\n",
       "      <th>F_Grade_Date</th>\n",
       "      <th>R_Grade</th>\n",
       "      <th>R_Grade_Date</th>\n",
       "    </tr>\n",
       "  </thead>\n",
       "  <tbody>\n",
       "    <tr>\n",
       "      <th>34</th>\n",
       "      <td>155</td>\n",
       "      <td>92</td>\n",
       "      <td>NaN</td>\n",
       "      <td>NaT</td>\n",
       "      <td>5,75</td>\n",
       "      <td>2022-11-07</td>\n",
       "      <td>NaN</td>\n",
       "      <td>2023-01-31</td>\n",
       "    </tr>\n",
       "  </tbody>\n",
       "</table>\n",
       "</div>"
      ],
      "text/plain": [
       "    userid  aula_id P_Grade P_Grade_Date F_Grade F_Grade_Date R_Grade  \\\n",
       "34     155       92     NaN          NaT    5,75   2022-11-07     NaN   \n",
       "\n",
       "   R_Grade_Date  \n",
       "34   2023-01-31  "
      ]
     },
     "execution_count": 48,
     "metadata": {},
     "output_type": "execute_result"
    }
   ],
   "source": [
    "Academic_Record_Subject(155, 92)"
   ]
  },
  {
   "cell_type": "markdown",
   "metadata": {},
   "source": [
    "Tablas Trameses"
   ]
  },
  {
   "cell_type": "code",
   "execution_count": 134,
   "metadata": {},
   "outputs": [],
   "source": [
    "def pie_chart_submissions_user(user_id):\n",
    "    submissions =  pd.read_csv(\"./../../data/dataset.csv\")\n",
    "    submissions = submissions[['userid', 'aula_id', 'activitat',\"activitat_id\", 'datesubmitted', 'attempt_number', 'mark', 'count_activities']]\n",
    "    submissions\n",
    "\n",
    "    submissions_user = submissions[submissions[\"userid\"] == user_id]\n",
    "    submissions_user\n",
    "\n",
    "    conteo_por_aula = submissions_user.groupby('aula_id').size()\n",
    "\n",
    "    # Convertir el conteo a un DataFrame y renombrar la columna\n",
    "    conteo_por_aula = conteo_por_aula.rename('conteo_registros').reset_index()\n",
    "\n",
    "    # Unir el conteo como una nueva columna en el DataFrame original\n",
    "    submissions_user = submissions_user.merge(conteo_por_aula, on='aula_id', how='left')\n",
    "    submissions_user['diferencia'] = submissions_user['count_activities'] - submissions_user['conteo_registros']\n",
    "\n",
    "\n",
    "\n",
    "    # Paso 2: Contar registros por aula_id y agregarlo como columna 'conteo_registros'\n",
    "    # Agrupamos el DataFrame submissions_user por 'aula_id' y contamos el número de registros en cada grupo\n",
    "    conteo_por_aula = submissions_user.groupby('aula_id').size()\n",
    "\n",
    "    # Renombramos la serie a 'conteo_registros' y la convertimos en un DataFrame\n",
    "    conteo_por_aula = conteo_por_aula.rename('conteo_registros').reset_index()\n",
    "\n",
    "    # Eliminar la columna 'conteo_registros' si ya existe en submissions_user\n",
    "    if 'conteo_registros' in submissions_user.columns:\n",
    "        submissions_user = submissions_user.drop(columns=['conteo_registros'])\n",
    "\n",
    "    # Realizamos un merge con submissions_user para agregar el conteo de registros como una nueva columna\n",
    "    submissions_user = submissions_user.merge(conteo_por_aula, on='aula_id', how='left')\n",
    "\n",
    "    # Paso 3: Crear la columna 'diferencia' como la resta entre 'count_activities' y 'conteo_registros'\n",
    "    # Restamos la columna 'conteo_registros' de 'count_activities' y guardamos el resultado en una nueva columna 'diferencia'\n",
    "    submissions_user['diferencia'] = submissions_user['count_activities'] - submissions_user['conteo_registros']\n",
    "\n",
    "    # Paso 4: Calcular suma_valores_distintos, la suma de los valores únicos en 'diferencia'\n",
    "    # Obtenemos los valores únicos en la columna 'diferencia' y calculamos su suma\n",
    "    suma_valores_distintos = submissions_user['diferencia'].unique().sum()\n",
    "    \n",
    "\n",
    "\n",
    "\n",
    "\n",
    "    count_mark_1 = (submissions_user['mark'] == 1).sum()\n",
    "\n",
    "    # Contar el número de registros donde mark es igual a 0\n",
    "    count_mark_0 = (submissions_user['mark'] == 0).sum()\n",
    "\n",
    "    # Contar el número de registros donde mark está entre 0 y 1\n",
    "    count_between_0_and_1 = ((submissions_user['mark'] > 0) & (submissions_user['mark'] < 1)).sum()\n",
    "\n",
    "\n",
    "    sizes = [count_mark_1, count_between_0_and_1, count_mark_0, suma_valores_distintos]\n",
    "    labels = ['10', 'Other', '0',  'NaN']\n",
    "    colors = ['#8BC34A', '#FFC107', '#FF4C4C', '#696969']  # Verde, rojo, amarillo, gris oscuro (DimGray)\n",
    "\n",
    "    # Crear el gráfico circular\n",
    "    plt.pie(\n",
    "        sizes,\n",
    "        labels=labels,\n",
    "        autopct='%1.1f%%',\n",
    "        startangle=90,\n",
    "        colors=colors\n",
    "    )\n",
    "\n",
    "    # Asegurarse de que el gráfico sea circular\n",
    "    plt.axis('equal')\n",
    "\n",
    "    # # Añadir la leyenda\n",
    "    # plt.legend(labels, loc=\"best\", title=\"Categorías\")\n",
    "\n",
    "    # Mostrar el gráfico\n",
    "    plt.show()"
   ]
  },
  {
   "cell_type": "code",
   "execution_count": 135,
   "metadata": {},
   "outputs": [
    {
     "name": "stderr",
     "output_type": "stream",
     "text": [
      "C:\\Users\\Aleix\\AppData\\Local\\Temp\\ipykernel_7204\\4176651102.py:2: DtypeWarning: Columns (12) have mixed types. Specify dtype option on import or set low_memory=False.\n",
      "  submissions =  pd.read_csv(\"./../../data/dataset.csv\")\n"
     ]
    },
    {
     "data": {
      "image/png": "[encoded data removed]",
      "text/plain": [
       "<Figure size 640x480 with 1 Axes>"
      ]
     },
     "metadata": {},
     "output_type": "display_data"
    }
   ],
   "source": [
    "pie_chart_submissions_user(155)"
   ]
  },
  {
   "cell_type": "code",
   "execution_count": null,
   "metadata": {},
   "outputs": [],
   "source": []
  },
  {
   "cell_type": "code",
   "execution_count": 136,
   "metadata": {},
   "outputs": [],
   "source": [
    " def pie_chart_submissions_user_aula(user_id, aula_id):\n",
    "    submissions =  pd.read_csv(\"./../../data/dataset.csv\")\n",
    "    submissions = submissions[['userid', 'aula_id', 'activitat',\"activitat_id\", 'datesubmitted', 'attempt_number', 'mark', 'count_activities']]\n",
    "\n",
    "\n",
    "    submissions_user = submissions[submissions[\"userid\"] == user_id]\n",
    "    submissions_user = submissions_user[ submissions_user[\"aula_id\"] == aula_id]\n",
    "    submissions_user\n",
    "\n",
    "    conteo_por_aula = submissions_user.groupby('aula_id').size()\n",
    "\n",
    "    # Convertir el conteo a un DataFrame y renombrar la columna\n",
    "    conteo_por_aula = conteo_por_aula.rename('conteo_registros').reset_index()\n",
    "\n",
    "    # Unir el conteo como una nueva columna en el DataFrame original\n",
    "    submissions_user = submissions_user.merge(conteo_por_aula, on='aula_id', how='left')\n",
    "    submissions_user['diferencia'] = submissions_user['count_activities'] - submissions_user['conteo_registros']\n",
    "\n",
    "\n",
    "\n",
    "    # Paso 2: Contar registros por aula_id y agregarlo como columna 'conteo_registros'\n",
    "    # Agrupamos el DataFrame submissions_user por 'aula_id' y contamos el número de registros en cada grupo\n",
    "    conteo_por_aula = submissions_user.groupby('aula_id').size()\n",
    "\n",
    "    # Renombramos la serie a 'conteo_registros' y la convertimos en un DataFrame\n",
    "    conteo_por_aula = conteo_por_aula.rename('conteo_registros').reset_index()\n",
    "\n",
    "    # Eliminar la columna 'conteo_registros' si ya existe en submissions_user\n",
    "    if 'conteo_registros' in submissions_user.columns:\n",
    "        submissions_user = submissions_user.drop(columns=['conteo_registros'])\n",
    "\n",
    "    # Realizamos un merge con submissions_user para agregar el conteo de registros como una nueva columna\n",
    "    submissions_user = submissions_user.merge(conteo_por_aula, on='aula_id', how='left')\n",
    "\n",
    "    # Paso 3: Crear la columna 'diferencia' como la resta entre 'count_activities' y 'conteo_registros'\n",
    "    # Restamos la columna 'conteo_registros' de 'count_activities' y guardamos el resultado en una nueva columna 'diferencia'\n",
    "    submissions_user['diferencia'] = submissions_user['count_activities'] - submissions_user['conteo_registros']\n",
    "\n",
    "    # Paso 4: Calcular suma_valores_distintos, la suma de los valores únicos en 'diferencia'\n",
    "    # Obtenemos los valores únicos en la columna 'diferencia' y calculamos su suma\n",
    "    suma_valores_distintos = submissions_user['diferencia'].unique().sum()\n",
    "    \n",
    "\n",
    "\n",
    "\n",
    "\n",
    "    count_mark_1 = (submissions_user['mark'] == 1).sum()\n",
    "\n",
    "    # Contar el número de registros donde mark es igual a 0\n",
    "    count_mark_0 = (submissions_user['mark'] == 0).sum()\n",
    "\n",
    "    # Contar el número de registros donde mark está entre 0 y 1\n",
    "    count_between_0_and_1 = ((submissions_user['mark'] > 0) & (submissions_user['mark'] < 1)).sum()\n",
    "    \n",
    "\n",
    "    sizes = [count_mark_1, count_between_0_and_1, count_mark_0, suma_valores_distintos]\n",
    "    labels = ['10', 'Other', '0',  'NaN']\n",
    "    colors = ['#8BC34A', '#FFC107', '#FF4C4C', '#696969']  # Verde, rojo, amarillo, gris oscuro (DimGray)\n",
    "\n",
    "    # Crear el gráfico circular\n",
    "    plt.pie(\n",
    "        sizes,\n",
    "        labels=labels,\n",
    "        autopct='%1.1f%%',\n",
    "        startangle=90,\n",
    "        colors=colors\n",
    "    )\n",
    "\n",
    "    # Asegurarse de que el gráfico sea circular\n",
    "    plt.axis('equal')\n",
    "\n",
    "    # # Añadir la leyenda\n",
    "    # plt.legend(labels, loc=\"best\", title=\"Categorías\")\n",
    "\n",
    "    # Mostrar el gráfico\n",
    "    plt.show()"
   ]
  },
  {
   "cell_type": "code",
   "execution_count": 137,
   "metadata": {},
   "outputs": [
    {
     "name": "stderr",
     "output_type": "stream",
     "text": [
      "C:\\Users\\Aleix\\AppData\\Local\\Temp\\ipykernel_7204\\795910829.py:2: DtypeWarning: Columns (12) have mixed types. Specify dtype option on import or set low_memory=False.\n",
      "  submissions =  pd.read_csv(\"./../../data/dataset.csv\")\n"
     ]
    },
    {
     "data": {
      "image/png": "[encoded data removed]",
      "text/plain": [
       "<Figure size 640x480 with 1 Axes>"
      ]
     },
     "metadata": {},
     "output_type": "display_data"
    }
   ],
   "source": [
    "pie_chart_submissions_user_aula(155, 92)"
   ]
  },
  {
   "cell_type": "code",
   "execution_count": null,
   "metadata": {},
   "outputs": [],
   "source": []
  },
  {
   "cell_type": "code",
   "execution_count": null,
   "metadata": {},
   "outputs": [],
   "source": []
  },
  {
   "cell_type": "code",
   "execution_count": null,
   "metadata": {},
   "outputs": [],
   "source": []
  },
  {
   "cell_type": "code",
   "execution_count": null,
   "metadata": {},
   "outputs": [],
   "source": []
  },
  {
   "cell_type": "code",
   "execution_count": null,
   "metadata": {},
   "outputs": [],
   "source": []
  },
  {
   "cell_type": "code",
   "execution_count": 45,
   "metadata": {},
   "outputs": [],
   "source": [
    "def submissions_user_hist(user_id):\n",
    "    \n",
    "    submissions =  pd.read_csv(\"./../../data/dataset.csv\")\n",
    "    submissions = submissions[['userid', 'aula_id', 'activitat',\"activitat_id\", 'datesubmitted', 'attempt_number', 'mark']]\n",
    "    submissions\n",
    "\n",
    "    submissions_user = submissions[submissions[\"userid\"] == user_id]\n",
    "    submissions_user\n",
    "\n",
    "    # Crear el histograma con un estilo minimalista\n",
    "    plt.hist(submissions_user['mark'], bins=10, color='#c09268', edgecolor='black')\n",
    "\n",
    "    # Remover los bordes y mantener solo el gráfico\n",
    "    plt.gca().spines['top'].set_visible(False)\n",
    "    plt.gca().spines['right'].set_visible(False)\n",
    "    plt.gca().spines['left'].set_visible(True)\n",
    "    plt.gca().spines['bottom'].set_visible(True)\n",
    "\n",
    "    # Solo mostrar ticks en el eje x\n",
    "    plt.tick_params(axis='y', which='both', left=True, right=False)\n",
    "    plt.tick_params(axis='x', which='both', bottom=True, top=False)\n",
    "\n",
    "    # Etiquetas para el eje x y el título\n",
    "    plt.xlabel('Mark')\n",
    "\n",
    "    # Mostrar el gráfico\n",
    "    return plt"
   ]
  },
  {
   "cell_type": "code",
   "execution_count": 46,
   "metadata": {},
   "outputs": [
    {
     "name": "stderr",
     "output_type": "stream",
     "text": [
      "C:\\Users\\Aleix\\AppData\\Local\\Temp\\ipykernel_7204\\3233756479.py:3: DtypeWarning: Columns (11,12,14,17) have mixed types. Specify dtype option on import or set low_memory=False.\n",
      "  submissions =  pd.read_csv(\"./../../data/dataset.csv\")\n"
     ]
    },
    {
     "data": {
      "image/png": "[encoded data removed]",
      "text/plain": [
       "<Figure size 640x480 with 1 Axes>"
      ]
     },
     "metadata": {},
     "output_type": "display_data"
    }
   ],
   "source": [
    "submissions_hist(2984).show()"
   ]
  },
  {
   "cell_type": "code",
   "execution_count": null,
   "metadata": {},
   "outputs": [],
   "source": []
  },
  {
   "cell_type": "code",
   "execution_count": 47,
   "metadata": {},
   "outputs": [],
   "source": [
    "def submissions_user_n_submissions(user_id):\n",
    "    \n",
    "    submissions =  pd.read_csv(\"./../../data/dataset.csv\")\n",
    "    submissions = submissions[['userid', 'aula_id', 'activitat',\"activitat_id\", 'datesubmitted', 'attempt_number', 'mark']]\n",
    "    submissions\n",
    "\n",
    "    submissions_user = submissions[submissions[\"userid\"] == user_id]\n",
    "    submissions_user\n",
    "\n",
    "    n_submissions = sum(submissions_user[\"attempt_number\"])\n",
    "    return n_submissions\n",
    "    "
   ]
  },
  {
   "cell_type": "code",
   "execution_count": 49,
   "metadata": {},
   "outputs": [
    {
     "name": "stderr",
     "output_type": "stream",
     "text": [
      "C:\\Users\\Aleix\\AppData\\Local\\Temp\\ipykernel_7204\\1666364076.py:3: DtypeWarning: Columns (11,12,14,17) have mixed types. Specify dtype option on import or set low_memory=False.\n",
      "  submissions =  pd.read_csv(\"./../../data/dataset.csv\")\n"
     ]
    },
    {
     "data": {
      "text/plain": [
       "121.0"
      ]
     },
     "execution_count": 49,
     "metadata": {},
     "output_type": "execute_result"
    }
   ],
   "source": [
    "submissions_user_n_submissions(2984)"
   ]
  },
  {
   "cell_type": "code",
   "execution_count": 50,
   "metadata": {},
   "outputs": [
    {
     "data": {
      "text/html": [
       "<div>\n",
       "<style scoped>\n",
       "    .dataframe tbody tr th:only-of-type {\n",
       "        vertical-align: middle;\n",
       "    }\n",
       "\n",
       "    .dataframe tbody tr th {\n",
       "        vertical-align: top;\n",
       "    }\n",
       "\n",
       "    .dataframe thead th {\n",
       "        text-align: right;\n",
       "    }\n",
       "</style>\n",
       "<table border=\"1\" class=\"dataframe\">\n",
       "  <thead>\n",
       "    <tr style=\"text-align: right;\">\n",
       "      <th></th>\n",
       "      <th>userid</th>\n",
       "      <th>aula_id</th>\n",
       "      <th>activitat</th>\n",
       "      <th>activitat_id</th>\n",
       "      <th>datesubmitted</th>\n",
       "      <th>attempt_number</th>\n",
       "      <th>mark</th>\n",
       "    </tr>\n",
       "  </thead>\n",
       "  <tbody>\n",
       "    <tr>\n",
       "      <th>101217</th>\n",
       "      <td>2984</td>\n",
       "      <td>184</td>\n",
       "      <td>Problema 1.1 - Hello world!!!</td>\n",
       "      <td>3799.0</td>\n",
       "      <td>2024-09-29 21:14:08</td>\n",
       "      <td>2.0</td>\n",
       "      <td>1.0</td>\n",
       "    </tr>\n",
       "    <tr>\n",
       "      <th>101218</th>\n",
       "      <td>2984</td>\n",
       "      <td>184</td>\n",
       "      <td>Problema 1.2 - Hello world!!! ++</td>\n",
       "      <td>3800.0</td>\n",
       "      <td>2024-09-29 21:21:39</td>\n",
       "      <td>3.0</td>\n",
       "      <td>1.0</td>\n",
       "    </tr>\n",
       "    <tr>\n",
       "      <th>101219</th>\n",
       "      <td>2984</td>\n",
       "      <td>184</td>\n",
       "      <td>Problema 3a.1: Càlcul edat</td>\n",
       "      <td>3801.0</td>\n",
       "      <td>2024-09-30 09:15:42</td>\n",
       "      <td>1.0</td>\n",
       "      <td>1.0</td>\n",
       "    </tr>\n",
       "    <tr>\n",
       "      <th>101220</th>\n",
       "      <td>2984</td>\n",
       "      <td>184</td>\n",
       "      <td>Problema 3a.8: Conversió dòlars a euros</td>\n",
       "      <td>3802.0</td>\n",
       "      <td>2024-09-30 09:26:37</td>\n",
       "      <td>2.0</td>\n",
       "      <td>1.0</td>\n",
       "    </tr>\n",
       "    <tr>\n",
       "      <th>101221</th>\n",
       "      <td>2984</td>\n",
       "      <td>184</td>\n",
       "      <td>Problema 3a.11: Mitjana de notes</td>\n",
       "      <td>3803.0</td>\n",
       "      <td>2024-09-30 09:34:40</td>\n",
       "      <td>1.0</td>\n",
       "      <td>1.0</td>\n",
       "    </tr>\n",
       "    <tr>\n",
       "      <th>...</th>\n",
       "      <td>...</td>\n",
       "      <td>...</td>\n",
       "      <td>...</td>\n",
       "      <td>...</td>\n",
       "      <td>...</td>\n",
       "      <td>...</td>\n",
       "      <td>...</td>\n",
       "    </tr>\n",
       "    <tr>\n",
       "      <th>101283</th>\n",
       "      <td>2984</td>\n",
       "      <td>184</td>\n",
       "      <td>Problema 5.7: Centenes d'un nombre</td>\n",
       "      <td>3880.0</td>\n",
       "      <td>2024-10-20 12:40:25</td>\n",
       "      <td>1.0</td>\n",
       "      <td>1.0</td>\n",
       "    </tr>\n",
       "    <tr>\n",
       "      <th>101284</th>\n",
       "      <td>2984</td>\n",
       "      <td>184</td>\n",
       "      <td>Problema 5.13: Sèrie de Fibonacci</td>\n",
       "      <td>3882.0</td>\n",
       "      <td>2024-10-20 12:49:00</td>\n",
       "      <td>2.0</td>\n",
       "      <td>1.0</td>\n",
       "    </tr>\n",
       "    <tr>\n",
       "      <th>101285</th>\n",
       "      <td>2984</td>\n",
       "      <td>184</td>\n",
       "      <td>Problema 5.3: Alerta</td>\n",
       "      <td>3887.0</td>\n",
       "      <td>2024-10-20 13:03:58</td>\n",
       "      <td>1.0</td>\n",
       "      <td>1.0</td>\n",
       "    </tr>\n",
       "    <tr>\n",
       "      <th>101286</th>\n",
       "      <td>2984</td>\n",
       "      <td>184</td>\n",
       "      <td>Problema 5.4: Temps d'execució</td>\n",
       "      <td>3890.0</td>\n",
       "      <td>2024-10-21 06:26:41</td>\n",
       "      <td>1.0</td>\n",
       "      <td>0.0</td>\n",
       "    </tr>\n",
       "    <tr>\n",
       "      <th>101287</th>\n",
       "      <td>2984</td>\n",
       "      <td>184</td>\n",
       "      <td>Problema 5.30: Suma de llistes</td>\n",
       "      <td>3891.0</td>\n",
       "      <td>2024-10-21 06:30:46</td>\n",
       "      <td>2.0</td>\n",
       "      <td>1.0</td>\n",
       "    </tr>\n",
       "  </tbody>\n",
       "</table>\n",
       "<p>71 rows × 7 columns</p>\n",
       "</div>"
      ],
      "text/plain": [
       "        userid  aula_id                                activitat  \\\n",
       "101217    2984      184            Problema 1.1 - Hello world!!!   \n",
       "101218    2984      184         Problema 1.2 - Hello world!!! ++   \n",
       "101219    2984      184               Problema 3a.1: Càlcul edat   \n",
       "101220    2984      184  Problema 3a.8: Conversió dòlars a euros   \n",
       "101221    2984      184         Problema 3a.11: Mitjana de notes   \n",
       "...        ...      ...                                      ...   \n",
       "101283    2984      184       Problema 5.7: Centenes d'un nombre   \n",
       "101284    2984      184        Problema 5.13: Sèrie de Fibonacci   \n",
       "101285    2984      184                     Problema 5.3: Alerta   \n",
       "101286    2984      184           Problema 5.4: Temps d'execució   \n",
       "101287    2984      184           Problema 5.30: Suma de llistes   \n",
       "\n",
       "        activitat_id        datesubmitted  attempt_number  mark  \n",
       "101217        3799.0  2024-09-29 21:14:08             2.0   1.0  \n",
       "101218        3800.0  2024-09-29 21:21:39             3.0   1.0  \n",
       "101219        3801.0  2024-09-30 09:15:42             1.0   1.0  \n",
       "101220        3802.0  2024-09-30 09:26:37             2.0   1.0  \n",
       "101221        3803.0  2024-09-30 09:34:40             1.0   1.0  \n",
       "...              ...                  ...             ...   ...  \n",
       "101283        3880.0  2024-10-20 12:40:25             1.0   1.0  \n",
       "101284        3882.0  2024-10-20 12:49:00             2.0   1.0  \n",
       "101285        3887.0  2024-10-20 13:03:58             1.0   1.0  \n",
       "101286        3890.0  2024-10-21 06:26:41             1.0   0.0  \n",
       "101287        3891.0  2024-10-21 06:30:46             2.0   1.0  \n",
       "\n",
       "[71 rows x 7 columns]"
      ]
     },
     "execution_count": 50,
     "metadata": {},
     "output_type": "execute_result"
    }
   ],
   "source": [
    "user_id = 2984\n",
    "submissions_user = submissions[submissions[\"userid\"] == user_id]\n",
    "submissions_user"
   ]
  },
  {
   "cell_type": "code",
   "execution_count": 55,
   "metadata": {},
   "outputs": [
    {
     "data": {
      "text/plain": [
       "aula_id\n",
       "143    25929\n",
       "92     23034\n",
       "176    16819\n",
       "141    14777\n",
       "87     12899\n",
       "184     7830\n",
       "Name: count, dtype: int64"
      ]
     },
     "execution_count": 55,
     "metadata": {},
     "output_type": "execute_result"
    }
   ],
   "source": [
    "submissions[\"aula_id\"].value_counts()"
   ]
  },
  {
   "cell_type": "code",
   "execution_count": 54,
   "metadata": {},
   "outputs": [
    {
     "data": {
      "text/html": [
       "<div>\n",
       "<style scoped>\n",
       "    .dataframe tbody tr th:only-of-type {\n",
       "        vertical-align: middle;\n",
       "    }\n",
       "\n",
       "    .dataframe tbody tr th {\n",
       "        vertical-align: top;\n",
       "    }\n",
       "\n",
       "    .dataframe thead th {\n",
       "        text-align: right;\n",
       "    }\n",
       "</style>\n",
       "<table border=\"1\" class=\"dataframe\">\n",
       "  <thead>\n",
       "    <tr style=\"text-align: right;\">\n",
       "      <th></th>\n",
       "      <th>activitat_id</th>\n",
       "      <th>activitat</th>\n",
       "      <th>aula_id</th>\n",
       "      <th>startdate</th>\n",
       "      <th>duedate</th>\n",
       "      <th>grade</th>\n",
       "    </tr>\n",
       "  </thead>\n",
       "  <tbody>\n",
       "    <tr>\n",
       "      <th>1566</th>\n",
       "      <td>3799</td>\n",
       "      <td>Problema 1.1 - Hello world!!!</td>\n",
       "      <td>184</td>\n",
       "      <td>0</td>\n",
       "      <td>0</td>\n",
       "      <td>100</td>\n",
       "    </tr>\n",
       "    <tr>\n",
       "      <th>1567</th>\n",
       "      <td>3800</td>\n",
       "      <td>Problema 1.2 - Hello world!!! ++</td>\n",
       "      <td>184</td>\n",
       "      <td>0</td>\n",
       "      <td>0</td>\n",
       "      <td>100</td>\n",
       "    </tr>\n",
       "    <tr>\n",
       "      <th>1568</th>\n",
       "      <td>3801</td>\n",
       "      <td>Problema 3a.1: Càlcul edat</td>\n",
       "      <td>184</td>\n",
       "      <td>0</td>\n",
       "      <td>0</td>\n",
       "      <td>100</td>\n",
       "    </tr>\n",
       "    <tr>\n",
       "      <th>1569</th>\n",
       "      <td>3802</td>\n",
       "      <td>Problema 3a.8: Conversió dòlars a euros</td>\n",
       "      <td>184</td>\n",
       "      <td>0</td>\n",
       "      <td>0</td>\n",
       "      <td>100</td>\n",
       "    </tr>\n",
       "    <tr>\n",
       "      <th>1570</th>\n",
       "      <td>3803</td>\n",
       "      <td>Problema 3a.11: Mitjana de notes</td>\n",
       "      <td>184</td>\n",
       "      <td>0</td>\n",
       "      <td>0</td>\n",
       "      <td>100</td>\n",
       "    </tr>\n",
       "    <tr>\n",
       "      <th>...</th>\n",
       "      <td>...</td>\n",
       "      <td>...</td>\n",
       "      <td>...</td>\n",
       "      <td>...</td>\n",
       "      <td>...</td>\n",
       "      <td>...</td>\n",
       "    </tr>\n",
       "    <tr>\n",
       "      <th>1793</th>\n",
       "      <td>4058</td>\n",
       "      <td>Problema 8.1: Classe Point</td>\n",
       "      <td>184</td>\n",
       "      <td>0</td>\n",
       "      <td>0</td>\n",
       "      <td>100</td>\n",
       "    </tr>\n",
       "    <tr>\n",
       "      <th>1794</th>\n",
       "      <td>4059</td>\n",
       "      <td>Problema 8.2: Classe Rectangle</td>\n",
       "      <td>184</td>\n",
       "      <td>0</td>\n",
       "      <td>0</td>\n",
       "      <td>100</td>\n",
       "    </tr>\n",
       "    <tr>\n",
       "      <th>1795</th>\n",
       "      <td>4060</td>\n",
       "      <td>Problema 5a.3: Nombre d'aprovats</td>\n",
       "      <td>184</td>\n",
       "      <td>0</td>\n",
       "      <td>0</td>\n",
       "      <td>100</td>\n",
       "    </tr>\n",
       "    <tr>\n",
       "      <th>1796</th>\n",
       "      <td>4194</td>\n",
       "      <td>(OPCIONAL) Problema 9.24 Triple pitagòric</td>\n",
       "      <td>184</td>\n",
       "      <td>0</td>\n",
       "      <td>0</td>\n",
       "      <td>100</td>\n",
       "    </tr>\n",
       "    <tr>\n",
       "      <th>1800</th>\n",
       "      <td>4388</td>\n",
       "      <td>PG - Exercici 1</td>\n",
       "      <td>184</td>\n",
       "      <td>1698917400</td>\n",
       "      <td>1698924900</td>\n",
       "      <td>100</td>\n",
       "    </tr>\n",
       "  </tbody>\n",
       "</table>\n",
       "<p>232 rows × 6 columns</p>\n",
       "</div>"
      ],
      "text/plain": [
       "      activitat_id                                  activitat  aula_id  \\\n",
       "1566          3799              Problema 1.1 - Hello world!!!      184   \n",
       "1567          3800           Problema 1.2 - Hello world!!! ++      184   \n",
       "1568          3801                 Problema 3a.1: Càlcul edat      184   \n",
       "1569          3802    Problema 3a.8: Conversió dòlars a euros      184   \n",
       "1570          3803           Problema 3a.11: Mitjana de notes      184   \n",
       "...            ...                                        ...      ...   \n",
       "1793          4058                 Problema 8.1: Classe Point      184   \n",
       "1794          4059             Problema 8.2: Classe Rectangle      184   \n",
       "1795          4060           Problema 5a.3: Nombre d'aprovats      184   \n",
       "1796          4194  (OPCIONAL) Problema 9.24 Triple pitagòric      184   \n",
       "1800          4388                            PG - Exercici 1      184   \n",
       "\n",
       "       startdate     duedate  grade  \n",
       "1566           0           0    100  \n",
       "1567           0           0    100  \n",
       "1568           0           0    100  \n",
       "1569           0           0    100  \n",
       "1570           0           0    100  \n",
       "...          ...         ...    ...  \n",
       "1793           0           0    100  \n",
       "1794           0           0    100  \n",
       "1795           0           0    100  \n",
       "1796           0           0    100  \n",
       "1800  1698917400  1698924900    100  \n",
       "\n",
       "[232 rows x 6 columns]"
      ]
     },
     "execution_count": 54,
     "metadata": {},
     "output_type": "execute_result"
    }
   ],
   "source": [
    "activities[activities[\"aula_id\"] == 184]"
   ]
  },
  {
   "cell_type": "code",
   "execution_count": null,
   "metadata": {},
   "outputs": [],
   "source": []
  },
  {
   "cell_type": "code",
   "execution_count": null,
   "metadata": {},
   "outputs": [],
   "source": []
  },
  {
   "cell_type": "code",
   "execution_count": 30,
   "metadata": {},
   "outputs": [
    {
     "data": {
      "text/plain": [
       "293.0"
      ]
     },
     "execution_count": 30,
     "metadata": {},
     "output_type": "execute_result"
    }
   ],
   "source": [
    "n_submissions = sum(submissions_user[\"attempt_number\"])\n",
    "n_submissions"
   ]
  },
  {
   "cell_type": "code",
   "execution_count": 31,
   "metadata": {},
   "outputs": [
    {
     "data": {
      "image/png": "[encoded data removed]",
      "text/plain": [
       "<Figure size 640x480 with 1 Axes>"
      ]
     },
     "metadata": {},
     "output_type": "display_data"
    }
   ],
   "source": [
    "import matplotlib.pyplot as plt\n",
    "\n",
    "    # Crear el histograma con un estilo minimalista\n",
    "    plt.hist(submissions_user['mark'], bins=10, color='#c09268', edgecolor='black')\n",
    "\n",
    "    # Remover los bordes y mantener solo el gráfico\n",
    "    plt.gca().spines['top'].set_visible(False)\n",
    "    plt.gca().spines['right'].set_visible(False)\n",
    "    plt.gca().spines['left'].set_visible(True)\n",
    "    plt.gca().spines['bottom'].set_visible(True)\n",
    "\n",
    "    # Solo mostrar ticks en el eje x\n",
    "    plt.tick_params(axis='y', which='both', left=True, right=False)\n",
    "    plt.tick_params(axis='x', which='both', bottom=True, top=False)\n",
    "\n",
    "    # Etiquetas para el eje x y el título\n",
    "    plt.xlabel('Mark')\n",
    "\n",
    "    # Mostrar el gráfico\n",
    "    plt.show()\n",
    "\n"
   ]
  },
  {
   "cell_type": "code",
   "execution_count": 12,
   "metadata": {},
   "outputs": [
    {
     "data": {
      "text/plain": [
       "mark\n",
       "1.00    87\n",
       "0.00    12\n",
       "0.96     2\n",
       "0.50     1\n",
       "0.97     1\n",
       "0.99     1\n",
       "Name: count, dtype: int64"
      ]
     },
     "execution_count": 12,
     "metadata": {},
     "output_type": "execute_result"
    }
   ],
   "source": []
  },
  {
   "cell_type": "code",
   "execution_count": null,
   "metadata": {},
   "outputs": [],
   "source": []
  },
  {
   "cell_type": "code",
   "execution_count": null,
   "metadata": {},
   "outputs": [],
   "source": []
  },
  {
   "cell_type": "code",
   "execution_count": null,
   "metadata": {},
   "outputs": [],
   "source": []
  },
  {
   "cell_type": "code",
   "execution_count": null,
   "metadata": {},
   "outputs": [],
   "source": []
  },
  {
   "cell_type": "code",
   "execution_count": null,
   "metadata": {},
   "outputs": [],
   "source": []
  },
  {
   "cell_type": "code",
   "execution_count": null,
   "metadata": {},
   "outputs": [],
   "source": []
  },
  {
   "cell_type": "code",
   "execution_count": null,
   "metadata": {},
   "outputs": [],
   "source": []
  },
  {
   "cell_type": "code",
   "execution_count": null,
   "metadata": {},
   "outputs": [],
   "source": []
  }
 ],
 "metadata": {
  "kernelspec": {
   "display_name": "Python 3",
   "language": "python",
   "name": "python3"
  },
  "language_info": {
   "codemirror_mode": {
    "name": "ipython",
    "version": 3
   },
   "file_extension": ".py",
   "mimetype": "text/x-python",
   "name": "python",
   "nbconvert_exporter": "python",
   "pygments_lexer": "ipython3",
   "version": "3.10.11"
  }
 },
 "nbformat": 4,
 "nbformat_minor": 2
}
